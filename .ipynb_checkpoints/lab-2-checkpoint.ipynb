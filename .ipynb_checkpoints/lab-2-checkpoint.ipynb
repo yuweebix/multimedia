{
 "cells": [
  {
   "cell_type": "markdown",
   "metadata": {
    "id": "wM3YTO6oG1nt"
   },
   "source": [
    "# Лабораторная работа №2 \"Проведение исследований с логистической и линейной регрессией\""
   ]
  },
  {
   "cell_type": "code",
   "execution_count": 13,
   "metadata": {
    "id": "5HC7OIUHHF43"
   },
   "outputs": [],
   "source": [
    "from itertools import combinations\n",
    "from tqdm import tqdm\n",
    "\n",
    "import numpy as np\n",
    "import pandas as pd\n",
    "import seaborn as sns\n",
    "import matplotlib.pyplot as plt\n",
    "\n",
    "import sklearn.metrics\n",
    "import sklearn.model_selection\n",
    "import sklearn.linear_model\n",
    "import sklearn.preprocessing\n",
    "import sklearn.feature_selection\n",
    "\n",
    "import imblearn.under_sampling"
   ]
  },
  {
   "cell_type": "markdown",
   "metadata": {
    "id": "2uvVWU_CG22S"
   },
   "source": [
    "## Классификация"
   ]
  },
  {
   "cell_type": "markdown",
   "metadata": {
    "id": "ppI5xXK2HTRW"
   },
   "source": [
    "### 2. Создание бейзлайна и оценка качества"
   ]
  },
  {
   "cell_type": "markdown",
   "metadata": {},
   "source": [
    "Взято из певой лабораторной работы"
   ]
  },
  {
   "cell_type": "code",
   "execution_count": 14,
   "metadata": {},
   "outputs": [],
   "source": [
    "#### Подготовка бейзлайна"
   ]
  },
  {
   "cell_type": "code",
   "execution_count": 15,
   "metadata": {},
   "outputs": [],
   "source": [
    "# !kaggle datasets download -q -p dataset -d hopesb/student-depression-dataset\n",
    "# !unzip dataset/student-depression-dataset.zip -d dataset/"
   ]
  },
  {
   "cell_type": "code",
   "execution_count": 16,
   "metadata": {},
   "outputs": [
    {
     "data": {
      "text/html": [
       "<div>\n",
       "<style scoped>\n",
       "    .dataframe tbody tr th:only-of-type {\n",
       "        vertical-align: middle;\n",
       "    }\n",
       "\n",
       "    .dataframe tbody tr th {\n",
       "        vertical-align: top;\n",
       "    }\n",
       "\n",
       "    .dataframe thead th {\n",
       "        text-align: right;\n",
       "    }\n",
       "</style>\n",
       "<table border=\"1\" class=\"dataframe\">\n",
       "  <thead>\n",
       "    <tr style=\"text-align: right;\">\n",
       "      <th></th>\n",
       "      <th>id</th>\n",
       "      <th>Gender</th>\n",
       "      <th>Age</th>\n",
       "      <th>City</th>\n",
       "      <th>Profession</th>\n",
       "      <th>Academic Pressure</th>\n",
       "      <th>Work Pressure</th>\n",
       "      <th>CGPA</th>\n",
       "      <th>Study Satisfaction</th>\n",
       "      <th>Job Satisfaction</th>\n",
       "      <th>Sleep Duration</th>\n",
       "      <th>Dietary Habits</th>\n",
       "      <th>Degree</th>\n",
       "      <th>Have you ever had suicidal thoughts ?</th>\n",
       "      <th>Work/Study Hours</th>\n",
       "      <th>Financial Stress</th>\n",
       "      <th>Family History of Mental Illness</th>\n",
       "      <th>Depression</th>\n",
       "    </tr>\n",
       "  </thead>\n",
       "  <tbody>\n",
       "    <tr>\n",
       "      <th>0</th>\n",
       "      <td>2</td>\n",
       "      <td>Male</td>\n",
       "      <td>33.0</td>\n",
       "      <td>Visakhapatnam</td>\n",
       "      <td>Student</td>\n",
       "      <td>5.0</td>\n",
       "      <td>0.0</td>\n",
       "      <td>8.97</td>\n",
       "      <td>2.0</td>\n",
       "      <td>0.0</td>\n",
       "      <td>5-6 hours</td>\n",
       "      <td>Healthy</td>\n",
       "      <td>B.Pharm</td>\n",
       "      <td>Yes</td>\n",
       "      <td>3.0</td>\n",
       "      <td>1.0</td>\n",
       "      <td>No</td>\n",
       "      <td>1</td>\n",
       "    </tr>\n",
       "    <tr>\n",
       "      <th>1</th>\n",
       "      <td>8</td>\n",
       "      <td>Female</td>\n",
       "      <td>24.0</td>\n",
       "      <td>Bangalore</td>\n",
       "      <td>Student</td>\n",
       "      <td>2.0</td>\n",
       "      <td>0.0</td>\n",
       "      <td>5.90</td>\n",
       "      <td>5.0</td>\n",
       "      <td>0.0</td>\n",
       "      <td>5-6 hours</td>\n",
       "      <td>Moderate</td>\n",
       "      <td>BSc</td>\n",
       "      <td>No</td>\n",
       "      <td>3.0</td>\n",
       "      <td>2.0</td>\n",
       "      <td>Yes</td>\n",
       "      <td>0</td>\n",
       "    </tr>\n",
       "    <tr>\n",
       "      <th>2</th>\n",
       "      <td>26</td>\n",
       "      <td>Male</td>\n",
       "      <td>31.0</td>\n",
       "      <td>Srinagar</td>\n",
       "      <td>Student</td>\n",
       "      <td>3.0</td>\n",
       "      <td>0.0</td>\n",
       "      <td>7.03</td>\n",
       "      <td>5.0</td>\n",
       "      <td>0.0</td>\n",
       "      <td>Less than 5 hours</td>\n",
       "      <td>Healthy</td>\n",
       "      <td>BA</td>\n",
       "      <td>No</td>\n",
       "      <td>9.0</td>\n",
       "      <td>1.0</td>\n",
       "      <td>Yes</td>\n",
       "      <td>0</td>\n",
       "    </tr>\n",
       "    <tr>\n",
       "      <th>3</th>\n",
       "      <td>30</td>\n",
       "      <td>Female</td>\n",
       "      <td>28.0</td>\n",
       "      <td>Varanasi</td>\n",
       "      <td>Student</td>\n",
       "      <td>3.0</td>\n",
       "      <td>0.0</td>\n",
       "      <td>5.59</td>\n",
       "      <td>2.0</td>\n",
       "      <td>0.0</td>\n",
       "      <td>7-8 hours</td>\n",
       "      <td>Moderate</td>\n",
       "      <td>BCA</td>\n",
       "      <td>Yes</td>\n",
       "      <td>4.0</td>\n",
       "      <td>5.0</td>\n",
       "      <td>Yes</td>\n",
       "      <td>1</td>\n",
       "    </tr>\n",
       "    <tr>\n",
       "      <th>4</th>\n",
       "      <td>32</td>\n",
       "      <td>Female</td>\n",
       "      <td>25.0</td>\n",
       "      <td>Jaipur</td>\n",
       "      <td>Student</td>\n",
       "      <td>4.0</td>\n",
       "      <td>0.0</td>\n",
       "      <td>8.13</td>\n",
       "      <td>3.0</td>\n",
       "      <td>0.0</td>\n",
       "      <td>5-6 hours</td>\n",
       "      <td>Moderate</td>\n",
       "      <td>M.Tech</td>\n",
       "      <td>Yes</td>\n",
       "      <td>1.0</td>\n",
       "      <td>1.0</td>\n",
       "      <td>No</td>\n",
       "      <td>0</td>\n",
       "    </tr>\n",
       "  </tbody>\n",
       "</table>\n",
       "</div>"
      ],
      "text/plain": [
       "   id  Gender   Age           City Profession  Academic Pressure  \\\n",
       "0   2    Male  33.0  Visakhapatnam    Student                5.0   \n",
       "1   8  Female  24.0      Bangalore    Student                2.0   \n",
       "2  26    Male  31.0       Srinagar    Student                3.0   \n",
       "3  30  Female  28.0       Varanasi    Student                3.0   \n",
       "4  32  Female  25.0         Jaipur    Student                4.0   \n",
       "\n",
       "   Work Pressure  CGPA  Study Satisfaction  Job Satisfaction  \\\n",
       "0            0.0  8.97                 2.0               0.0   \n",
       "1            0.0  5.90                 5.0               0.0   \n",
       "2            0.0  7.03                 5.0               0.0   \n",
       "3            0.0  5.59                 2.0               0.0   \n",
       "4            0.0  8.13                 3.0               0.0   \n",
       "\n",
       "      Sleep Duration Dietary Habits   Degree  \\\n",
       "0          5-6 hours        Healthy  B.Pharm   \n",
       "1          5-6 hours       Moderate      BSc   \n",
       "2  Less than 5 hours        Healthy       BA   \n",
       "3          7-8 hours       Moderate      BCA   \n",
       "4          5-6 hours       Moderate   M.Tech   \n",
       "\n",
       "  Have you ever had suicidal thoughts ?  Work/Study Hours  Financial Stress  \\\n",
       "0                                   Yes               3.0               1.0   \n",
       "1                                    No               3.0               2.0   \n",
       "2                                    No               9.0               1.0   \n",
       "3                                   Yes               4.0               5.0   \n",
       "4                                   Yes               1.0               1.0   \n",
       "\n",
       "  Family History of Mental Illness  Depression  \n",
       "0                               No           1  \n",
       "1                              Yes           0  \n",
       "2                              Yes           0  \n",
       "3                              Yes           1  \n",
       "4                               No           0  "
      ]
     },
     "execution_count": 16,
     "metadata": {},
     "output_type": "execute_result"
    }
   ],
   "source": [
    "ds = pd.read_csv(\"dataset/Student Depression Dataset.csv\")\n",
    "ds.head()"
   ]
  },
  {
   "cell_type": "code",
   "execution_count": 17,
   "metadata": {},
   "outputs": [
    {
     "data": {
      "text/html": [
       "<div>\n",
       "<style scoped>\n",
       "    .dataframe tbody tr th:only-of-type {\n",
       "        vertical-align: middle;\n",
       "    }\n",
       "\n",
       "    .dataframe tbody tr th {\n",
       "        vertical-align: top;\n",
       "    }\n",
       "\n",
       "    .dataframe thead th {\n",
       "        text-align: right;\n",
       "    }\n",
       "</style>\n",
       "<table border=\"1\" class=\"dataframe\">\n",
       "  <thead>\n",
       "    <tr style=\"text-align: right;\">\n",
       "      <th></th>\n",
       "      <th>Age</th>\n",
       "      <th>Academic Pressure</th>\n",
       "      <th>CGPA</th>\n",
       "      <th>Study Satisfaction</th>\n",
       "      <th>Work/Study Hours</th>\n",
       "      <th>Financial Stress</th>\n",
       "      <th>Depression</th>\n",
       "      <th>Gender_Female</th>\n",
       "      <th>Gender_Male</th>\n",
       "      <th>City_3.0</th>\n",
       "      <th>...</th>\n",
       "      <th>Degree_MD</th>\n",
       "      <th>Degree_ME</th>\n",
       "      <th>Degree_MHM</th>\n",
       "      <th>Degree_MSc</th>\n",
       "      <th>Degree_Others</th>\n",
       "      <th>Degree_PhD</th>\n",
       "      <th>Have you ever had suicidal thoughts ?_No</th>\n",
       "      <th>Have you ever had suicidal thoughts ?_Yes</th>\n",
       "      <th>Family History of Mental Illness_No</th>\n",
       "      <th>Family History of Mental Illness_Yes</th>\n",
       "    </tr>\n",
       "  </thead>\n",
       "  <tbody>\n",
       "    <tr>\n",
       "      <th>0</th>\n",
       "      <td>33.0</td>\n",
       "      <td>5.0</td>\n",
       "      <td>8.97</td>\n",
       "      <td>2.0</td>\n",
       "      <td>3.0</td>\n",
       "      <td>1.0</td>\n",
       "      <td>1</td>\n",
       "      <td>0</td>\n",
       "      <td>1</td>\n",
       "      <td>0</td>\n",
       "      <td>...</td>\n",
       "      <td>0</td>\n",
       "      <td>0</td>\n",
       "      <td>0</td>\n",
       "      <td>0</td>\n",
       "      <td>0</td>\n",
       "      <td>0</td>\n",
       "      <td>0</td>\n",
       "      <td>1</td>\n",
       "      <td>1</td>\n",
       "      <td>0</td>\n",
       "    </tr>\n",
       "    <tr>\n",
       "      <th>1</th>\n",
       "      <td>24.0</td>\n",
       "      <td>2.0</td>\n",
       "      <td>5.90</td>\n",
       "      <td>5.0</td>\n",
       "      <td>3.0</td>\n",
       "      <td>2.0</td>\n",
       "      <td>0</td>\n",
       "      <td>1</td>\n",
       "      <td>0</td>\n",
       "      <td>0</td>\n",
       "      <td>...</td>\n",
       "      <td>0</td>\n",
       "      <td>0</td>\n",
       "      <td>0</td>\n",
       "      <td>0</td>\n",
       "      <td>0</td>\n",
       "      <td>0</td>\n",
       "      <td>1</td>\n",
       "      <td>0</td>\n",
       "      <td>0</td>\n",
       "      <td>1</td>\n",
       "    </tr>\n",
       "    <tr>\n",
       "      <th>2</th>\n",
       "      <td>31.0</td>\n",
       "      <td>3.0</td>\n",
       "      <td>7.03</td>\n",
       "      <td>5.0</td>\n",
       "      <td>9.0</td>\n",
       "      <td>1.0</td>\n",
       "      <td>0</td>\n",
       "      <td>0</td>\n",
       "      <td>1</td>\n",
       "      <td>0</td>\n",
       "      <td>...</td>\n",
       "      <td>0</td>\n",
       "      <td>0</td>\n",
       "      <td>0</td>\n",
       "      <td>0</td>\n",
       "      <td>0</td>\n",
       "      <td>0</td>\n",
       "      <td>1</td>\n",
       "      <td>0</td>\n",
       "      <td>0</td>\n",
       "      <td>1</td>\n",
       "    </tr>\n",
       "    <tr>\n",
       "      <th>3</th>\n",
       "      <td>28.0</td>\n",
       "      <td>3.0</td>\n",
       "      <td>5.59</td>\n",
       "      <td>2.0</td>\n",
       "      <td>4.0</td>\n",
       "      <td>5.0</td>\n",
       "      <td>1</td>\n",
       "      <td>1</td>\n",
       "      <td>0</td>\n",
       "      <td>0</td>\n",
       "      <td>...</td>\n",
       "      <td>0</td>\n",
       "      <td>0</td>\n",
       "      <td>0</td>\n",
       "      <td>0</td>\n",
       "      <td>0</td>\n",
       "      <td>0</td>\n",
       "      <td>0</td>\n",
       "      <td>1</td>\n",
       "      <td>0</td>\n",
       "      <td>1</td>\n",
       "    </tr>\n",
       "    <tr>\n",
       "      <th>4</th>\n",
       "      <td>25.0</td>\n",
       "      <td>4.0</td>\n",
       "      <td>8.13</td>\n",
       "      <td>3.0</td>\n",
       "      <td>1.0</td>\n",
       "      <td>1.0</td>\n",
       "      <td>0</td>\n",
       "      <td>1</td>\n",
       "      <td>0</td>\n",
       "      <td>0</td>\n",
       "      <td>...</td>\n",
       "      <td>0</td>\n",
       "      <td>0</td>\n",
       "      <td>0</td>\n",
       "      <td>0</td>\n",
       "      <td>0</td>\n",
       "      <td>0</td>\n",
       "      <td>0</td>\n",
       "      <td>1</td>\n",
       "      <td>1</td>\n",
       "      <td>0</td>\n",
       "    </tr>\n",
       "  </tbody>\n",
       "</table>\n",
       "<p>5 rows × 102 columns</p>\n",
       "</div>"
      ],
      "text/plain": [
       "    Age  Academic Pressure  CGPA  Study Satisfaction  Work/Study Hours  \\\n",
       "0  33.0                5.0  8.97                 2.0               3.0   \n",
       "1  24.0                2.0  5.90                 5.0               3.0   \n",
       "2  31.0                3.0  7.03                 5.0               9.0   \n",
       "3  28.0                3.0  5.59                 2.0               4.0   \n",
       "4  25.0                4.0  8.13                 3.0               1.0   \n",
       "\n",
       "   Financial Stress  Depression  Gender_Female  Gender_Male  City_3.0  ...  \\\n",
       "0               1.0           1              0            1         0  ...   \n",
       "1               2.0           0              1            0         0  ...   \n",
       "2               1.0           0              0            1         0  ...   \n",
       "3               5.0           1              1            0         0  ...   \n",
       "4               1.0           0              1            0         0  ...   \n",
       "\n",
       "   Degree_MD  Degree_ME  Degree_MHM  Degree_MSc  Degree_Others  Degree_PhD  \\\n",
       "0          0          0           0           0              0           0   \n",
       "1          0          0           0           0              0           0   \n",
       "2          0          0           0           0              0           0   \n",
       "3          0          0           0           0              0           0   \n",
       "4          0          0           0           0              0           0   \n",
       "\n",
       "   Have you ever had suicidal thoughts ?_No  \\\n",
       "0                                         0   \n",
       "1                                         1   \n",
       "2                                         1   \n",
       "3                                         0   \n",
       "4                                         0   \n",
       "\n",
       "   Have you ever had suicidal thoughts ?_Yes  \\\n",
       "0                                          1   \n",
       "1                                          0   \n",
       "2                                          0   \n",
       "3                                          1   \n",
       "4                                          1   \n",
       "\n",
       "   Family History of Mental Illness_No  Family History of Mental Illness_Yes  \n",
       "0                                    1                                     0  \n",
       "1                                    0                                     1  \n",
       "2                                    0                                     1  \n",
       "3                                    0                                     1  \n",
       "4                                    1                                     0  \n",
       "\n",
       "[5 rows x 102 columns]"
      ]
     },
     "execution_count": 17,
     "metadata": {},
     "output_type": "execute_result"
    }
   ],
   "source": [
    "df = ds[ds['Profession'] == 'Student']\n",
    "df = ds.drop(columns=[\"id\", \"Profession\", \"Work Pressure\", \"Job Satisfaction\"])\n",
    "\n",
    "df = pd.get_dummies(df, columns=[\"Gender\"], dtype=int)\n",
    "df = pd.get_dummies(df, columns=[\"City\"], dtype=int)\n",
    "df = pd.get_dummies(df, columns=[\"Sleep Duration\"], dtype=int)\n",
    "df = pd.get_dummies(df, columns=[\"Dietary Habits\"], dtype=int)\n",
    "df = pd.get_dummies(df, columns=[\"Degree\"], dtype=int)\n",
    "df = pd.get_dummies(df, columns=[\"Have you ever had suicidal thoughts ?\"], dtype=int)\n",
    "df = pd.get_dummies(df, columns=[\"Family History of Mental Illness\"], dtype=int)\n",
    "\n",
    "df = df.dropna()\n",
    "\n",
    "df.head()"
   ]
  },
  {
   "cell_type": "markdown",
   "metadata": {
    "id": "ak5-rG5DH3iQ"
   },
   "source": [
    "#### Обучение модели"
   ]
  },
  {
   "cell_type": "markdown",
   "metadata": {
    "id": "ElHJ3VcjH6_K"
   },
   "source": [
    "Аналогично первой лр"
   ]
  },
  {
   "cell_type": "code",
   "execution_count": 18,
   "metadata": {
    "id": "-VC-1AP8H5B5"
   },
   "outputs": [],
   "source": [
    "def generate_train_data(dataset, *, target_feature=\"Depression\", random_state=42, test_size=0.2):\n",
    "  X = dataset.drop(columns=[target_feature])\n",
    "  y = dataset[target_feature]\n",
    "\n",
    "  X_train, X_test, y_train, y_test = map(\n",
    "    np.array,\n",
    "    sklearn.model_selection.train_test_split(\n",
    "      X, y,\n",
    "      test_size=test_size,\n",
    "      random_state=random_state,\n",
    "    ),\n",
    "  )\n",
    "\n",
    "  return (X_train, y_train), (X_test, y_test)\n",
    "\n",
    "\n",
    "def get_model_metrics(model, X_test, y_test):\n",
    "  y_pred = model.predict(X_test)\n",
    "\n",
    "  accuracy = sklearn.metrics.accuracy_score(y_test, y_pred)\n",
    "  precision = sklearn.metrics.precision_score(y_test, y_pred)\n",
    "  recall = sklearn.metrics.recall_score(y_test, y_pred)\n",
    "  f1 = sklearn.metrics.f1_score(y_test, y_pred)\n",
    "\n",
    "  confusion_matrix = sklearn.metrics.confusion_matrix(y_test, y_pred)\n",
    "\n",
    "  return {\n",
    "    \"accuracy\": accuracy,\n",
    "    \"precision\": precision,\n",
    "    \"recall\": recall,\n",
    "    \"f1\": f1,\n",
    "    \"confusion_matrix\": confusion_matrix,\n",
    "  }\n",
    "\n",
    "\n",
    "def print_model_metrics(model, X_test, y_test):\n",
    "  metrics = get_model_metrics(model, X_test, y_test)\n",
    "\n",
    "  print(f\"Accuracy: {metrics['accuracy']:.4f}\")\n",
    "  print(f\"Precision: {metrics['precision']:.4f}\")\n",
    "  print(f\"Recall: {metrics['recall']:.4f}\")\n",
    "  print(f\"F1-Score: {metrics['f1']:.4f}\")\n",
    "\n",
    "  print(\"\\nConfusion Matrix:\")\n",
    "  print(metrics[\"confusion_matrix\"])\n"
   ]
  },
  {
   "cell_type": "markdown",
   "metadata": {
    "id": "wlPHEZqNIPRQ"
   },
   "source": [
    "Обучим теперь модель логистической регрессии для решения задачи классификации на бейзлайн-датасете, который мы ранее определили и выведем на экран показатели метрик для итоговой обученной модели."
   ]
  },
  {
   "cell_type": "code",
   "execution_count": 29,
   "metadata": {
    "colab": {
     "base_uri": "https://localhost:8080/"
    },
    "id": "upMXIZAeIW0j",
    "outputId": "60f196fd-a22f-4084-f7c0-3b0310fafa27"
   },
   "outputs": [
    {
     "name": "stdout",
     "output_type": "stream",
     "text": [
      "Accuracy: 0.8466\n",
      "Precision: 0.8466\n",
      "Recall: 0.8979\n",
      "F1-Score: 0.8715\n",
      "\n",
      "Confusion Matrix:\n",
      "[[1822  526]\n",
      " [ 330 2902]]\n"
     ]
    }
   ],
   "source": [
    "(X_train, y_train), (X_test, y_test) = generate_train_data(df)\n",
    "\n",
    "model = sklearn.linear_model.LogisticRegression(max_iter=500)\n",
    "model.fit(X_train, y_train)\n",
    "\n",
    "print_model_metrics(model, X_test, y_test)"
   ]
  },
  {
   "cell_type": "markdown",
   "metadata": {
    "id": "MIeC8iBSIg8i"
   },
   "source": [
    "Изначально бейзлайн превосходит лучшие результаты KNN, за исключением `Recall`, но тот далеко отстает. Можно также заметить довольно значительное расхождение между `Precision` и `Recall` в более, чем $5\\%$."
   ]
  },
  {
   "cell_type": "markdown",
   "metadata": {
    "id": "wojIlyM3JlY1"
   },
   "source": [
    "### 3. Улучшение бейзлайна"
   ]
  },
  {
   "cell_type": "markdown",
   "metadata": {
    "id": "F92DrInTJoG2"
   },
   "source": [
    "#### Учитывание несбалансированности класса"
   ]
  },
  {
   "cell_type": "markdown",
   "metadata": {
    "id": "n8pXyFVFJo7Y"
   },
   "source": [
    "Сбалансируем модель, чтобы приблизить `Precision` и `Recall`."
   ]
  },
  {
   "cell_type": "code",
   "execution_count": 30,
   "metadata": {
    "colab": {
     "base_uri": "https://localhost:8080/"
    },
    "id": "ZDXrEqO0KTIA",
    "outputId": "30209801-a8b8-4760-92f5-12024adcf398"
   },
   "outputs": [
    {
     "name": "stdout",
     "output_type": "stream",
     "text": [
      "Accuracy: 0.8489\n",
      "Precision: 0.8727\n",
      "Recall: 0.8654\n",
      "F1-Score: 0.8690\n",
      "\n",
      "Confusion Matrix:\n",
      "[[1940  408]\n",
      " [ 435 2797]]\n"
     ]
    }
   ],
   "source": [
    "(X_train, y_train), (X_test, y_test) = generate_train_data(df)\n",
    "\n",
    "model = sklearn.linear_model.LogisticRegression(class_weight='balanced', max_iter=500)\n",
    "model.fit(X_train, y_train)\n",
    "\n",
    "print_model_metrics(model, X_test, y_test)"
   ]
  },
  {
   "cell_type": "markdown",
   "metadata": {
    "id": "Z5M_tkvKKacs"
   },
   "source": [
    "Таким образом, `Accuracy` незначительно поднялось, а разница между `Precision` и `Recall` теперь составляет менее $1\\%$ за счёт незначительно уменьшения `F1-Score`."
   ]
  },
  {
   "cell_type": "markdown",
   "metadata": {
    "id": "FTc3rXPJK1nP",
    "jp-MarkdownHeadingCollapsed": true
   },
   "source": [
    "#### Масштабирование данных"
   ]
  },
  {
   "cell_type": "markdown",
   "metadata": {
    "id": "b5ziczQkK14V"
   },
   "source": [
    "Аналогично первой лабораторной работе поиграимся с `Work/Study Hours`."
   ]
  },
  {
   "cell_type": "code",
   "execution_count": 31,
   "metadata": {
    "colab": {
     "base_uri": "https://localhost:8080/",
     "height": 342
    },
    "id": "z9RLIVwuLWVp",
    "outputId": "366eaed5-f94b-48cc-ece2-987329dbc240"
   },
   "outputs": [
    {
     "data": {
      "image/png": "[encoded data removed]",
      "text/plain": [
       "<Figure size 1800x400 with 6 Axes>"
      ]
     },
     "metadata": {},
     "output_type": "display_data"
    }
   ],
   "source": [
    "numerical_features = [\"Age\", \"Academic Pressure\", \"CGPA\", \"Study Satisfaction\", \"Work/Study Hours\", \"Financial Stress\"]\n",
    "n = len(numerical_features)\n",
    "\n",
    "def print_histograms(dataset):\n",
    "  plt.figure(figsize=(18, 4))\n",
    "\n",
    "  for i, feature in enumerate(numerical_features, 1):\n",
    "    plt.subplot(1, n, i)\n",
    "    plt.hist(dataset[feature])\n",
    "    plt.title(feature)\n",
    "\n",
    "  plt.show()\n",
    "\n",
    "print_histograms(df)"
   ]
  },
  {
   "cell_type": "code",
   "execution_count": 36,
   "metadata": {
    "colab": {
     "base_uri": "https://localhost:8080/",
     "height": 345
    },
    "id": "w2HwG_krLp88",
    "outputId": "0cb6d4a0-e424-4869-a7f5-9c14db25dcf1"
   },
   "outputs": [
    {
     "data": {
      "image/png": "[encoded data removed]",
      "text/plain": [
       "<Figure size 1800x400 with 1 Axes>"
      ]
     },
     "metadata": {},
     "output_type": "display_data"
    }
   ],
   "source": [
    "# numerical_features = [\"Work/Study Hours\"]\n",
    "scaler = sklearn.preprocessing.MinMaxScaler()\n",
    "optimized_df = df.copy()\n",
    "optimized_df[numerical_features] = scaler.fit_transform(optimized_df[numerical_features])\n",
    "\n",
    "print_histograms(optimized_df)"
   ]
  },
  {
   "cell_type": "markdown",
   "metadata": {
    "id": "ZlwA32CHLxgV"
   },
   "source": [
    "Проверим, улучшились ли показатели метрик после произведенных улучшений бейзлайна"
   ]
  },
  {
   "cell_type": "code",
   "execution_count": 37,
   "metadata": {
    "colab": {
     "base_uri": "https://localhost:8080/"
    },
    "id": "g27VlkbaLyzd",
    "outputId": "5c7eaf18-d25b-4521-b98a-36c99971c42a"
   },
   "outputs": [
    {
     "name": "stdout",
     "output_type": "stream",
     "text": [
      "Accuracy: 0.8487\n",
      "Precision: 0.8727\n",
      "Recall: 0.8651\n",
      "F1-Score: 0.8689\n",
      "\n",
      "Confusion Matrix:\n",
      "[[1940  408]\n",
      " [ 436 2796]]\n"
     ]
    }
   ],
   "source": [
    "(X_train, y_train), (X_test, y_test) = generate_train_data(optimized_df)\n",
    "\n",
    "model = sklearn.linear_model.LogisticRegression(class_weight=\"balanced\", max_iter=500)\n",
    "model.fit(X_train, y_train)\n",
    "\n",
    "print_model_metrics(model, X_test, y_test)"
   ]
  },
  {
   "cell_type": "markdown",
   "metadata": {
    "id": "3O89OEb9L8Uv"
   },
   "source": [
    "Незначительно ухудшелось."
   ]
  },
  {
   "cell_type": "markdown",
   "metadata": {
    "id": "zFmEjv8AMG4c"
   },
   "source": [
    "#### Удаление лишних признаков"
   ]
  },
  {
   "cell_type": "markdown",
   "metadata": {
    "id": "YBTeI5XLMWbR"
   },
   "source": [
    "Лишние признаки являются частой проблемой, характерной для датасетов в контексте обучения линейных моделей, так как они добавляют шум в данные. Такие признаки с одной стороны не содержат полезной информации о целевой переменной, но с другой могут способствовать переобучению модели, ухудшению ее сходимости и т. д.\n",
    "\n",
    "Поэтому, имеет смысл убрать признаки, которые меньше всего влияют на итоговые предсказания. Используя свойство линейности моделей, мы можем определить, какие признаки наиболее значимы, ссылаясь на их веса.\n",
    "\n",
    "Итого, задача сводится к нахождению признаков с маленькими значениями весов и их последующему удалению."
   ]
  },
  {
   "cell_type": "code",
   "execution_count": 60,
   "metadata": {
    "colab": {
     "base_uri": "https://localhost:8080/"
    },
    "id": "dFLeTBNENBvg",
    "outputId": "c1964722-dcf9-4c6b-800b-99fc9b1421dd"
   },
   "outputs": [
    {
     "name": "stdout",
     "output_type": "stream",
     "text": [
      "Have you ever had suicidal thoughts ?_No 1.5034453263663499\n",
      "Have you ever had suicidal thoughts ?_Yes 1.0258685121886006\n",
      "Academic Pressure 0.8461760640630913\n",
      "Dietary Habits_Healthy 0.7512245007647366\n",
      "Degree_Others 0.6723478792784935\n",
      "Financial Stress 0.5502531968586842\n",
      "City_Nalyan 0.4593386144999423\n",
      "City_Kibara 0.42855529592011216\n",
      "City_City 0.4114178904746765\n",
      "Family History of Mental Illness_No 0.3785488619182792\n",
      "Sleep Duration_More than 8 hours 0.3598536916419899\n",
      "City_Nagpur 0.3307875431932621\n",
      "City_Ahmedabad 0.32340633654298107\n",
      "Dietary Habits_Unhealthy 0.3198937530558703\n",
      "City_Hyderabad 0.31237883027064406\n",
      "City_Agra 0.28123893506405667\n",
      "City_Mumbai 0.27653086303152385\n",
      "Degree_BA 0.26571782672935784\n",
      "City_Jaipur 0.26024803637386035\n",
      "Dietary Habits_Moderate 0.252485662919254\n",
      "Gender_Male 0.2453128015726989\n",
      "City_Meerut 0.2381810030441086\n",
      "Study Satisfaction 0.236693843308569\n",
      "Gender_Female 0.23226401260519627\n",
      "Sleep Duration_Less than 5 hours 0.23159240910877443\n",
      "Degree_MBA 0.21480847781303963\n",
      "City_Chennai 0.21015070134696112\n",
      "Dietary Habits_Others 0.20623959645013726\n",
      "Degree_LLM 0.20468731448462024\n",
      "City_Kolkata 0.2021617998503521\n",
      "Degree_MA 0.19961748550574002\n",
      "City_Saanvi 0.1971480086739626\n",
      "City_Faridabad 0.18710723361415127\n",
      "Degree_Class 12 0.18235690489142442\n",
      "Degree_B.Com 0.1730619941219893\n",
      "City_Bhopal 0.15720852157910958\n",
      "City_Pune 0.1502764513003721\n",
      "Degree_BSc 0.14756920222762887\n",
      "Degree_ME 0.14734575962167515\n",
      "Degree_MHM 0.13613855865591143\n",
      "Degree_M.Tech 0.13098629431008818\n",
      "City_Delhi 0.12864290488503008\n",
      "Sleep Duration_Others 0.12679598062531094\n",
      "Degree_BHM 0.1259280943249587\n",
      "City_ME 0.12536127404037378\n",
      "Degree_MSc 0.12483901100459832\n",
      "Sleep Duration_7-8 hours 0.12131587174543743\n",
      "Degree_B.Pharm 0.11995963665020938\n",
      "Age 0.11944785780620823\n",
      "Work/Study Hours 0.11196463656427465\n",
      "City_Srinagar 0.11048572519891955\n",
      "Sleep Duration_5-6 hours 0.10120367927378865\n",
      "City_Nandini 0.09954791838258521\n",
      "City_Mihir 0.09923597038517411\n",
      "Family History of Mental Illness_Yes 0.09902795225963193\n",
      "City_Thane 0.09781041203330251\n",
      "City_Mira 0.09756305626739169\n",
      "Degree_LLB 0.08736207575337313\n",
      "City_Lucknow 0.08707882378120585\n",
      "Degree_BE 0.08511436004914309\n",
      "City_Ludhiana 0.08309140355256413\n",
      "City_Surat 0.07885460995201705\n",
      "City_Reyansh 0.07453560674485615\n",
      "Degree_PhD 0.06995097497762663\n",
      "City_Harsha 0.06479692277505042\n",
      "Degree_B.Tech 0.06436022575779017\n",
      "Degree_BBA 0.059167702296691244\n",
      "Degree_B.Ed 0.058367303322167344\n",
      "CGPA 0.05134656878073373\n",
      "City_Patna 0.04955951571106725\n",
      "Degree_B.Arch 0.04757991303148279\n",
      "Degree_M.Ed 0.0440560232754755\n",
      "City_Vadodara 0.0425131161326183\n",
      "City_Nashik 0.04194152918062053\n",
      "City_Ghaziabad 0.03529873989900628\n",
      "City_Bhavna 0.03447524664887747\n",
      "Degree_MBBS 0.03286125956898941\n",
      "City_Rajkot 0.031063530638812238\n",
      "Degree_M.Com 0.0280590685023041\n",
      "City_Varanasi 0.022468296564390946\n",
      "City_M.Tech 0.02085755494361201\n",
      "City_Visakhapatnam 0.017666657545210056\n",
      "City_Gaurav 0.017101940505410872\n",
      "City_3.0 0.016274109929920132\n",
      "Degree_BCA 0.015577944003785477\n",
      "City_Vasai-Virar 0.015011205793927397\n",
      "City_Kanpur 0.014847215799513137\n",
      "City_Indore 0.012696322222444554\n",
      "City_Kalyan 0.012292868993530465\n",
      "Degree_M.Pharm 0.01100623474053876\n",
      "City_Harsh 0.010518712385888432\n",
      "City_Nalini 0.009469790334586661\n",
      "City_Bangalore 0.008339926293166851\n",
      "Degree_MD 0.0071338487013032975\n",
      "Degree_MCA 0.006785993463178097\n",
      "City_Less Delhi 0.006111156503390155\n",
      "City_Less than 5 Kalyan 0.0020299163778848247\n",
      "City_Khaziabad 0.0\n",
      "City_M.Com 0.0\n",
      "City_Rashi 0.0\n",
      "City_Vaanya 0.0\n",
      "\n",
      "Features to remove:\n",
      "- City_Nandini\n",
      "- City_Mihir\n",
      "- Family History of Mental Illness_Yes\n",
      "- City_Thane\n",
      "- City_Mira\n",
      "- Degree_LLB\n",
      "- City_Lucknow\n",
      "- Degree_BE\n",
      "- City_Ludhiana\n",
      "- City_Surat\n",
      "- City_Reyansh\n",
      "- Degree_PhD\n",
      "- City_Harsha\n",
      "- Degree_B.Tech\n",
      "- Degree_BBA\n",
      "- Degree_B.Ed\n",
      "- CGPA\n",
      "- City_Patna\n",
      "- Degree_B.Arch\n",
      "- Degree_M.Ed\n",
      "- City_Vadodara\n",
      "- City_Nashik\n",
      "- City_Ghaziabad\n",
      "- City_Bhavna\n",
      "- Degree_MBBS\n",
      "- City_Rajkot\n",
      "- Degree_M.Com\n",
      "- City_Varanasi\n",
      "- City_M.Tech\n",
      "- City_Visakhapatnam\n",
      "- City_Gaurav\n",
      "- City_3.0\n",
      "- Degree_BCA\n",
      "- City_Vasai-Virar\n",
      "- City_Kanpur\n",
      "- City_Indore\n",
      "- City_Kalyan\n",
      "- Degree_M.Pharm\n",
      "- City_Harsh\n",
      "- City_Nalini\n",
      "- City_Bangalore\n",
      "- Degree_MD\n",
      "- Degree_MCA\n",
      "- City_Less Delhi\n",
      "- City_Less than 5 Kalyan\n",
      "- City_Khaziabad\n",
      "- City_M.Com\n",
      "- City_Rashi\n",
      "- City_Vaanya\n"
     ]
    }
   ],
   "source": [
    "threshold = 0.1\n",
    "dropped_features = []\n",
    "\n",
    "columns = list(df.columns)\n",
    "columns.remove(\"Depression\")\n",
    "\n",
    "x = list(zip(columns, np.abs(model.coef_[0])))\n",
    "x.sort(key=lambda p: p[1], reverse=True)\n",
    "\n",
    "for col, coef in x:\n",
    "  print(col, coef)\n",
    "  if coef < threshold:\n",
    "    dropped_features.append(col)\n",
    "\n",
    "print()\n",
    "print(\"Features to remove:\")\n",
    "for feature in dropped_features:\n",
    "  print(f\"- {feature}\")"
   ]
  },
  {
   "cell_type": "markdown",
   "metadata": {
    "id": "qPV-oiTzPD0x"
   },
   "source": [
    "Проверим, улучшились ли показатели метрик после произведенных улучшений бейзлайна"
   ]
  },
  {
   "cell_type": "code",
   "execution_count": 61,
   "metadata": {
    "colab": {
     "base_uri": "https://localhost:8080/"
    },
    "id": "aOYF6HjyOvxs",
    "outputId": "245832b1-f46d-4a89-fb4f-13203e4d14a1"
   },
   "outputs": [
    {
     "name": "stdout",
     "output_type": "stream",
     "text": [
      "Accuracy: 0.8489\n",
      "Precision: 0.8725\n",
      "Recall: 0.8657\n",
      "F1-Score: 0.8691\n",
      "\n",
      "Confusion Matrix:\n",
      "[[1939  409]\n",
      " [ 434 2798]]\n"
     ]
    }
   ],
   "source": [
    "optimized_df = df.drop(columns=dropped_features)\n",
    "\n",
    "(X_train, y_train), (X_test, y_test) = generate_train_data(optimized_df)\n",
    "\n",
    "model = sklearn.linear_model.LogisticRegression(class_weight=\"balanced\", max_iter=500)\n",
    "model.fit(X_train, y_train)\n",
    "\n",
    "print_model_metrics(model, X_test, y_test)"
   ]
  },
  {
   "cell_type": "markdown",
   "metadata": {
    "id": "dLF-4gdGPFpt"
   },
   "source": [
    "К сожалению, это только сделало модель хуже. Оставляем `df` как есть."
   ]
  },
  {
   "cell_type": "markdown",
   "metadata": {
    "id": "_t2WWbk4PGN2"
   },
   "source": [
    "#### Feature engineering"
   ]
  },
  {
   "cell_type": "markdown",
   "metadata": {
    "id": "hvML48PBPMi6"
   },
   "source": [
    "Одной из частых практик по улучшению бейзлайна конкретно для линейных моделей является feature engineering, заключающийся в генерации новых признаков на основе уже существующих.\n",
    "\n",
    "При этом генерация новых признаков происходит за счет использования нелинейных признаков. Тем самым мы даем модели больше информации, которую она бы не смогла получить через линейные преобразования."
   ]
  },
  {
   "cell_type": "markdown",
   "metadata": {
    "id": "ZyrXupLfPph7"
   },
   "source": [
    "Для проверки данной гипотезы реализуем вспомогательную функцию `extend_dataset`, которая будет создавать на основе входного датасета новый, содержащий дополнительные признаки, полученные путем перемноженяи переданных."
   ]
  },
  {
   "cell_type": "code",
   "execution_count": 64,
   "metadata": {
    "id": "c6bQ9NIiP2Mv"
   },
   "outputs": [],
   "source": [
    "def extend_dataset(dataset, columns):\n",
    "  extended_ds = dataset.copy()\n",
    "  col_a, col_b = columns\n",
    "\n",
    "  poly = sklearn.preprocessing.PolynomialFeatures(\n",
    "    degree=2,\n",
    "    interaction_only=False,\n",
    "    include_bias=False,\n",
    "  )\n",
    "\n",
    "  poly_ds = pd.DataFrame(\n",
    "    poly.fit_transform(extended_ds[[col_a, col_b]]),\n",
    "    columns=[col_a, col_b, f'{col_a}^2', f'{col_a}_{col_b}', f'{col_b}^2'],\n",
    "  )\n",
    "\n",
    "  return pd.concat(\n",
    "    [extended_ds, poly_ds.drop(columns=[col_a, col_b])],\n",
    "    axis=1,\n",
    "  )\n"
   ]
  },
  {
   "cell_type": "markdown",
   "metadata": {
    "id": "XMSx76rPP9Cx"
   },
   "source": [
    "Также, реализуем еще одну вспомогательную функцию `find_best_columns_pair`, которая из всех возможных пар признаков найдет ту, которая даст наилучшее значение метрики при обучении модели."
   ]
  },
  {
   "cell_type": "code",
   "execution_count": null,
   "metadata": {
    "id": "QE49ZfzdP4pI"
   },
   "outputs": [],
   "source": [
    "def find_best_columns_pair(dataset, target_feature=\"Depression\"):\n",
    "  columns = set(dataset.columns)\n",
    "  columns.remove(target_feature)\n",
    "\n",
    "  combs = set(combinations(columns, 2))\n",
    "  results = []\n",
    "\n",
    "  for cols in tqdm(combs):\n",
    "    extended_df = extend_dataset(dataset, cols)\n",
    "    extended_df = extended_df.dropna()\n",
    "    (X_train, y_train), (X_test, y_test) = generate_train_data(extended_df)\n",
    "\n",
    "    model = sklearn.linear_model.LogisticRegression(class_weight=\"balanced\", max_iter=500)\n",
    "    model.fit(X_train, y_train)\n",
    "    metrics = get_model_metrics(model, X_test, y_test)\n",
    "\n",
    "    results.append({\n",
    "      \"columns\": cols,\n",
    "      \"accuracy\": metrics[\"accuracy\"],\n",
    "      \"f1\": metrics[\"f1\"],\n",
    "    })\n",
    "\n",
    "  results.sort(\n",
    "    key=lambda p: (p[\"accuracy\"], p[\"f1\"]),\n",
    "    reverse=True,\n",
    "  )\n",
    "\n",
    "  return pd.DataFrame({\n",
    "    key: [ el[key] for el in results ]\n",
    "    for key in results[0].keys()\n",
    "  })"
   ]
  },
  {
   "cell_type": "markdown",
   "metadata": {
    "id": "ojwSU7I5QRpn"
   },
   "source": [
    "Попробуем найти наилучшую пару признаков для последнего оптимизированного бейзлайна"
   ]
  },
  {
   "cell_type": "code",
   "execution_count": null,
   "metadata": {
    "colab": {
     "base_uri": "https://localhost:8080/",
     "height": 1000
    },
    "id": "psmvdkOEQWar",
    "outputId": "04bf43c1-6493-462c-f1d4-6932fde65d42"
   },
   "outputs": [],
   "source": [
    "find_best_columns_pair(df)"
   ]
  },
  {
   "cell_type": "markdown",
   "metadata": {
    "id": "xkO19AubQc5G"
   },
   "source": [
    "Как видим, наилучшей парой оказалась `NumOfProducts`, `Balance`. Попробуем обучить модель на расширенном датасете и сравнить значения метрик с прошлыми."
   ]
  },
  {
   "cell_type": "code",
   "execution_count": null,
   "metadata": {
    "colab": {
     "base_uri": "https://localhost:8080/"
    },
    "id": "Wxg5uqrWQlzP",
    "outputId": "6ccf1e0f-be4e-43c3-f7b5-bd77ad240e6a"
   },
   "outputs": [],
   "source": [
    "extended_ds = extend_dataset(scaled_ds_2, (\"NumOfProducts\", \"Balance\"))\n",
    "\n",
    "(X_train, y_train), (X_test, y_test) = generate_train_data(extended_ds)\n",
    "\n",
    "model = sklearn.linear_model.LogisticRegression(class_weight=\"balanced\")\n",
    "model.fit(X_train, y_train)\n",
    "\n",
    "print_model_metrics(model, X_test, y_test)"
   ]
  },
  {
   "cell_type": "markdown",
   "metadata": {
    "id": "8Y-Xo_VMQzAB"
   },
   "source": [
    "Как видим, добавление новых признаков дало значительный прирост в качестве полученной модели! А следовательно, гипотеза оказалась верной и крайне эффективной."
   ]
  },
  {
   "cell_type": "markdown",
   "metadata": {
    "id": "YlrzYi54Q90h"
   },
   "source": [
    "Попробуем найти еще одну пару признаков, которые бы могли дать больше информации модели"
   ]
  },
  {
   "cell_type": "code",
   "execution_count": null,
   "metadata": {
    "colab": {
     "base_uri": "https://localhost:8080/",
     "height": 441
    },
    "id": "PuQtYOSPRCdy",
    "outputId": "8eba676e-86b5-4344-ff78-61cbdf99f15b"
   },
   "outputs": [],
   "source": [
    "find_best_columns_pair(extended_ds)"
   ]
  },
  {
   "cell_type": "markdown",
   "metadata": {
    "id": "rbufxbsCRIeK"
   },
   "source": [
    "В этот раз лучшей парой оказались признаки `Age`, `IsActiveMember`. Попробуем обучить модель на расширенном датасете и сравнить значения метрик с прошлыми."
   ]
  },
  {
   "cell_type": "code",
   "execution_count": null,
   "metadata": {
    "colab": {
     "base_uri": "https://localhost:8080/"
    },
    "id": "3Ap9_GjzRTV-",
    "outputId": "071d143b-2b67-44ce-f39a-d63d8e0cf95a"
   },
   "outputs": [],
   "source": [
    "extended_ds_2 = extend_dataset(extended_ds, (\"Age\", \"IsActiveMember\"))\n",
    "\n",
    "(X_train, y_train), (X_test, y_test) = generate_train_data(extended_ds_2)\n",
    "\n",
    "model = sklearn.linear_model.LogisticRegression(class_weight=\"balanced\")\n",
    "model.fit(X_train, y_train)\n",
    "\n",
    "print_model_metrics(model, X_test, y_test)"
   ]
  },
  {
   "cell_type": "markdown",
   "metadata": {
    "id": "RkzYFhIQRaTz"
   },
   "source": [
    "Как видим, добавление новых признаков снова дало прирост в качестве полученной модели!"
   ]
  },
  {
   "cell_type": "markdown",
   "metadata": {
    "id": "j9VF0ZHTRiO4"
   },
   "source": [
    "### 4. Имплементация алгоритма машинного обучения"
   ]
  },
  {
   "cell_type": "markdown",
   "metadata": {
    "id": "bvvki2reRkaj"
   },
   "source": [
    "Перейдем теперь к собственной имплементации алгоритма логистической регрессии для решения задачи классификации. Решение я реализовал в виде класса `MyLogisticRegression`, который имеет интерфейс, схожий с тем, что используется в библиотеке `sklearn`. присутствуют 2 метода: `fit` - для обучения модели, `predict` - для предсказания классов для уже обученной модели.\n",
    "\n",
    "Сам алгоритм градиентного спуска я решил реализовать в виде отдельной функции, которая отвечает за поиск такого набора значений параметров, при котором целевая функция будет принимать минимальные значения."
   ]
  },
  {
   "cell_type": "code",
   "execution_count": null,
   "metadata": {
    "id": "uw0M34IuRqV2"
   },
   "outputs": [],
   "source": [
    "sigmoid = lambda x: 1.0 / (1.0 + np.exp(-x))\n",
    "\n",
    "\n",
    "def gradient_descent(df, initial, learn_rate, iterations):\n",
    "  x = initial\n",
    "  for _ in range(iterations):\n",
    "    dx = df(x)\n",
    "    x -= dx * learn_rate\n",
    "  return x\n",
    "\n",
    "\n",
    "class MyLogisticRegression:\n",
    "  def __init__(self, *, learn_rate=0.01, epochs=1_000):\n",
    "    self.__learn_rate = learn_rate\n",
    "    self.__epochs = epochs\n",
    "\n",
    "    self.__weights = None\n",
    "    self.__bias = None\n",
    "    self.__X = None\n",
    "    self.__y = None\n",
    "\n",
    "  def __loss_gradient(self, x):\n",
    "    assert self.__X is not None\n",
    "    assert self.__y is not None\n",
    "\n",
    "    n, _ = self.__X.shape\n",
    "    weights, bias = x[:-1], x[-1]\n",
    "    y_predicted = sigmoid(np.dot(self.__X, weights) + bias)\n",
    "\n",
    "    d_weights = np.dot(self.__X.T, (y_predicted - self.__y)) / n\n",
    "    d_bias = np.sum(y_predicted - self.__y) / n\n",
    "\n",
    "    return np.array([*d_weights, d_bias])\n",
    "\n",
    "  def fit(self, X, y):\n",
    "    assert self.__weights is None\n",
    "    assert self.__bias is None\n",
    "\n",
    "    self.__X = np.array(X)\n",
    "    self.__y = np.array(y)\n",
    "    _, m = self.__X.shape\n",
    "\n",
    "    # Начальные веса\n",
    "    x0 = gradient_descent(\n",
    "      self.__loss_gradient,\n",
    "      2.0 * np.ones(m + 1),\n",
    "      self.__learn_rate,\n",
    "      self.__epochs,\n",
    "    )\n",
    "\n",
    "    self.__weights = x0[:-1]\n",
    "    self.__bias = x0[-1]\n",
    "\n",
    "    def predict(self, X):\n",
    "      assert self.__weights is not None\n",
    "      assert self.__bias is not None\n",
    "\n",
    "      y_predicted = sigmoid(np.dot(X, self.__weights) + self.__bias)\n",
    "      return np.array([i >= 0.5 for i in y_predicted], dtype=int)"
   ]
  },
  {
   "cell_type": "markdown",
   "metadata": {
    "id": "pbsVUYMxSC96"
   },
   "source": [
    "#### Сравнение с бейзлайном"
   ]
  },
  {
   "cell_type": "markdown",
   "metadata": {
    "id": "zV0uOyZzSE3C"
   },
   "source": [
    "Обучим теперь реализованную модель на датасете, соответствущем бейзлайну. Из-за определенных ранее вспомогательных функций и схожего интерфейса класса модели основной алгоритм обучения не меняется."
   ]
  },
  {
   "cell_type": "code",
   "execution_count": null,
   "metadata": {
    "colab": {
     "base_uri": "https://localhost:8080/"
    },
    "id": "TabBTQFbSITf",
    "outputId": "b5daba30-27ee-4974-9f91-e3c4e3047c63"
   },
   "outputs": [],
   "source": [
    "(X_train, y_train), (X_test, y_test) = generate_train_data(ва)\n",
    "\n",
    "model = MyLogisticRegression()\n",
    "model.fit(X_train, y_train)\n",
    "\n",
    "print_model_metrics(model, X_test, y_test)"
   ]
  },
  {
   "cell_type": "markdown",
   "metadata": {
    "id": "qiohACGpSfuV"
   },
   "source": [
    "Сравним полученные результаты для имплементированной модели с результатами из пункта 2.\n",
    "\n",
    "Как видно, показатели метрик значительно отличаются от тех, что были получены при обучении модели из пункта 2. В этот раз модель отдала предпочтение классу уходящих клиентов, из-за чего значение метрики \"F1-Score\" оказалось выше в 2 раза, однако, значение метрики \"Accuracy\" в разы упало.\n",
    "\n",
    "Одной из причин такого расхождения может послужить недостаточно обширный набор гиперпараметров для модели и различия в реализации метода оптимизации."
   ]
  },
  {
   "cell_type": "markdown",
   "metadata": {
    "id": "cTfsQEATTRdR"
   },
   "source": [
    "#### Сравнение с улучшенным бейзлайном"
   ]
  },
  {
   "cell_type": "code",
   "execution_count": null,
   "metadata": {
    "colab": {
     "base_uri": "https://localhost:8080/"
    },
    "id": "v-N2dhxrTTF9",
    "outputId": "ce87aa6d-0b3d-4d5d-e7fc-d9e72ea6a4d7"
   },
   "outputs": [],
   "source": [
    "(X_train, y_train), (X_test, y_test) = generate_train_data(extended_ds_2)\n",
    "\n",
    "model = MyLogisticRegression()\n",
    "model.fit(X_train, y_train)\n",
    "\n",
    "print_model_metrics(model, X_test, y_test)"
   ]
  },
  {
   "cell_type": "markdown",
   "metadata": {
    "id": "C3GGaScbTdwa"
   },
   "source": [
    "Как видим, при обучении на улучшенном бейзлайне ситуация начинает меняться. Реализованная модель стала работать более ожидаемо - она отдает предпочтение более частому классу, из-за чего значение метрики \"Accuracy\" значительно возрасло.\n",
    "\n",
    "С другой стороны, значение метрики \"F1-Score\" стало значительно меньше, чем у модели из пункта 3. Возможными причинами является отсутствие гиперпараметра `class_weight`, без которого реализованная модель также не учитывает несбалансированность классов."
   ]
  },
  {
   "cell_type": "markdown",
   "metadata": {
    "id": "fahxd-CiUU3n"
   },
   "source": [
    "## Регрессия"
   ]
  },
  {
   "cell_type": "markdown",
   "metadata": {
    "id": "gPZ5tUifUWW8"
   },
   "source": [
    "### 2. Создание бейзлайна и оценка качества"
   ]
  },
  {
   "cell_type": "markdown",
   "metadata": {
    "id": "5L4SYV5EUh-U"
   },
   "source": [
    "#### Подготовка бейзлайна"
   ]
  },
  {
   "cell_type": "markdown",
   "metadata": {
    "id": "UYQiFzAuUbki"
   },
   "source": [
    "Перед началом обучения модели сформируем бейзлайн, подобно тому, как это было выполнено в рамках лабораторной работы №1"
   ]
  },
  {
   "cell_type": "code",
   "execution_count": null,
   "metadata": {
    "colab": {
     "base_uri": "https://localhost:8080/"
    },
    "id": "YF-6kJxtUkcr",
    "outputId": "c96936fc-f1c8-4f60-a7f3-678d967f2c43"
   },
   "outputs": [],
   "source": [
    "!kaggle datasets download -q -p dataset -d denkuznetz/taxi-price-prediction\n",
    "!unzip dataset/taxi-price-prediction.zip -d dataset/"
   ]
  },
  {
   "cell_type": "code",
   "execution_count": null,
   "metadata": {
    "colab": {
     "base_uri": "https://localhost:8080/",
     "height": 226
    },
    "id": "00jWwTMUUm0x",
    "outputId": "3f7e15b0-3efd-43ff-8d25-343c6546af52"
   },
   "outputs": [],
   "source": [
    "ds = pd.read_csv(\"/content/dataset/taxi_trip_pricing.csv\")\n",
    "ва = ds.dropna(subset=[\"Trip_Price\"])\n",
    "\n",
    "numeric_features = [\n",
    "  \"Trip_Distance_km\",\n",
    "  \"Passenger_Count\",\n",
    "  \"Base_Fare\",\n",
    "  \"Per_Km_Rate\",\n",
    "  \"Per_Minute_Rate\",\n",
    "  \"Trip_Duration_Minutes\",\n",
    "]\n",
    "ва[numeric_features] = ва[numeric_features].apply(lambda col: col.fillna(col.median()))\n",
    "\n",
    "categorical_features = [\n",
    "  \"Time_of_Day\",\n",
    "  \"Day_of_Week\",\n",
    "  \"Traffic_Conditions\",\n",
    "  \"Weather\",\n",
    "]\n",
    "\n",
    "for feature in categorical_features:\n",
    "  encoded_feature = pd.get_dummies(ва[feature], prefix=feature, dtype=int)\n",
    "  ва[encoded_feature.columns] = encoded_feature\n",
    "  ва = ва.drop(columns=[feature])\n",
    "\n",
    "ва.head()"
   ]
  },
  {
   "cell_type": "markdown",
   "metadata": {
    "id": "m9Kwdh8fU5Fu"
   },
   "source": [
    "#### Обучение модели"
   ]
  },
  {
   "cell_type": "markdown",
   "metadata": {
    "id": "1EgwgtFuU7ja"
   },
   "source": [
    "Перейдем теперь к этапу обучения модели. По аналогии с лабораторной работой №1, для этого создадим вспомогательные функции:\n",
    "\n",
    "- `generate_train_data` - отвечает за то, чтобы сгенерировать набор данных для тестирования и обучения на основе переданного датасета\n",
    "\n",
    "- `get_model_metrics` - отвечает за рассчет показаний метрик для уже обученной модели на основе тестовых данных\n",
    "\n",
    "- `print_model_metrics` - отвечает за отформатированный вывод показаний метрик"
   ]
  },
  {
   "cell_type": "code",
   "execution_count": null,
   "metadata": {
    "id": "qxFftNTJVAah"
   },
   "outputs": [],
   "source": [
    "def generate_train_data(dataset, *, target_feature=\"Trip_Price\", test_size=0.2, random_state=42):\n",
    "  X = dataset.drop(columns=[target_feature])\n",
    "  y = dataset[target_feature]\n",
    "  X_train, X_test, y_train, y_test = map(\n",
    "    np.array,\n",
    "    sklearn.model_selection.train_test_split(\n",
    "      X, y,\n",
    "      test_size=test_size,\n",
    "      random_state=random_state,\n",
    "    ),\n",
    "  )\n",
    "\n",
    "  return (X_train, y_train), (X_test, y_test)\n",
    "\n",
    "\n",
    "def get_model_metrics(model, X_test, y_test):\n",
    "  y_pred = model.predict(X_test)\n",
    "\n",
    "  mae = sklearn.metrics.mean_absolute_error(y_test, y_pred)\n",
    "  r2 = sklearn.metrics.r2_score(y_test, y_pred)\n",
    "\n",
    "  return { \"mae\": mae, \"r2\": r2 }\n",
    "\n",
    "\n",
    "def print_model_metrics(model, X_test, y_test):\n",
    "  results = get_model_metrics(model, X_test, y_test)\n",
    "\n",
    "  print(f\"Mean Absolute Error (MAE): {results['mae']:.4f}\")\n",
    "  print(f\"R-squared (R2): {results['r2']:.4f}\")"
   ]
  },
  {
   "cell_type": "markdown",
   "metadata": {
    "id": "aP_OOZOKVGi_"
   },
   "source": [
    "Обучим теперь модель линейной регрессии для решения задачи регрессии на бейзлайн-датасете, который мы ранее определили и выведем на экран показатели метрик для итоговой обученной модели."
   ]
  },
  {
   "cell_type": "code",
   "execution_count": null,
   "metadata": {
    "colab": {
     "base_uri": "https://localhost:8080/"
    },
    "id": "oVJ5IbOSVQXB",
    "outputId": "e977c737-363a-4307-bba0-afb183b5f759"
   },
   "outputs": [],
   "source": [
    "(X_train, y_train), (X_test, y_test) = generate_train_data(ва)\n",
    "\n",
    "model = sklearn.linear_model.LinearRegression()\n",
    "model.fit(X_train, y_train)\n",
    "\n",
    "print_model_metrics(model, X_test, y_test)"
   ]
  },
  {
   "cell_type": "markdown",
   "metadata": {
    "id": "yNoQBOWDVXe4"
   },
   "source": [
    "На основе полученных показателей метрик можно сделать следующие выводы.\n",
    "\n",
    "В среднем модель ошибается на 10 денежных единиц, что значительно лучше по сравнению с KNN алгоритмом, однако все также остается проблема для дешевых поездок, так как для них эта погрешность существенна.\n",
    "\n",
    "А также, модель хорошо улавливает зависимости внутри данных, что можно заметить по высоким значениям метрики `R2`.\n"
   ]
  },
  {
   "cell_type": "markdown",
   "metadata": {
    "id": "Nrk4Pmi-VwXV"
   },
   "source": [
    "### 3. Улучшение бейзлайна"
   ]
  },
  {
   "cell_type": "markdown",
   "metadata": {
    "id": "qHbM6XyTVzBc"
   },
   "source": [
    "#### Избавление от мультиколлинеарности"
   ]
  },
  {
   "cell_type": "markdown",
   "metadata": {
    "id": "1EgdPHUxV4vc"
   },
   "source": [
    "Подобно тому, как было реализовано в лабораторной работе №1, улучшение бейзлайна начнем с решения проблемы мультиколлинеарности.\n",
    "\n",
    "Мультиколлинеарность для линейной регрессии может оказать негативное влияние, так как может спровоцировать нестабильность оценок коэффициентов.\n",
    "\n",
    "При высокой мультиколлинеарности признаки сильно коррелируют между собой.\n",
    "Это приводит к тому, что модель не может однозначно определить влияние каждого признака на целевую переменную.\n",
    "\n",
    "Для проверки наличия мультиколлинеарности построим матрицу корреляции."
   ]
  },
  {
   "cell_type": "code",
   "execution_count": null,
   "metadata": {
    "colab": {
     "base_uri": "https://localhost:8080/",
     "height": 1000
    },
    "id": "H3LTw6I1WYw5",
    "outputId": "5b4431b1-a287-4dcb-f07e-eb60808bc370"
   },
   "outputs": [],
   "source": [
    "corr_matrix = ва.corr().drop(\"Trip_Price\", axis=0)\n",
    "\n",
    "plt.figure(figsize=(18, 18))\n",
    "sns.heatmap(corr_matrix, annot=True, fmt=\".2f\", cmap=\"coolwarm\")\n",
    "plt.title(\"Корреляционная матрица\")\n",
    "plt.show()"
   ]
  },
  {
   "cell_type": "markdown",
   "metadata": {
    "id": "d86SZuaMWiKg"
   },
   "source": [
    "Как видим, проблема мультиколлинеарности свойственна для категориальных признаков, таких как \"Тип дня недели\", \"Время суток\", \"Условия трафика\", \"Погода\".\n",
    "\n",
    "Решим найденную проблему путем сведения признаков, которые были созданы через one-hot encoding к одному признаку с использованием порядкого кодирования."
   ]
  },
  {
   "cell_type": "code",
   "execution_count": null,
   "metadata": {
    "colab": {
     "base_uri": "https://localhost:8080/",
     "height": 206
    },
    "id": "ANjs7c-iWk_U",
    "outputId": "81fe2e20-1d10-4e8e-9e66-26b628a19e6d"
   },
   "outputs": [],
   "source": [
    "def convert_one_hot_to_single_column(dataset, new_column, one_hot_columns):\n",
    "  dataset[new_column] = sum(w * dataset[col] for w, col in enumerate(one_hot_columns, 1))\n",
    "  dataset.drop(columns=one_hot_columns, inplace=True)\n",
    "\n",
    "\n",
    "optimized_ds = ва.copy()\n",
    "\n",
    "convert_one_hot_to_single_column(\n",
    "  dataset=optimized_ds,\n",
    "  new_column=\"Day_of_Week\",\n",
    "  one_hot_columns=[\"Day_of_Week_Weekday\", \"Day_of_Week_Weekend\"],\n",
    ")\n",
    "\n",
    "convert_one_hot_to_single_column(\n",
    "  dataset=optimized_ds,\n",
    "  new_column=\"Time_of_Day\",\n",
    "  one_hot_columns=[\"Time_of_Day_Morning\", \"Time_of_Day_Afternoon\", \"Time_of_Day_Evening\", \"Time_of_Day_Night\"],\n",
    ")\n",
    "\n",
    "convert_one_hot_to_single_column(\n",
    "  dataset=optimized_ds,\n",
    "  new_column=\"Traffic_Conditions\",\n",
    "  one_hot_columns=[\"Traffic_Conditions_Low\", \"Traffic_Conditions_Medium\", \"Traffic_Conditions_High\"],\n",
    ")\n",
    "\n",
    "convert_one_hot_to_single_column(\n",
    "  dataset=optimized_ds,\n",
    "  new_column=\"Weather\",\n",
    "  one_hot_columns=[\"Weather_Clear\", \"Weather_Rain\", \"Weather_Snow\"],\n",
    ")\n",
    "\n",
    "optimized_ds.head()"
   ]
  },
  {
   "cell_type": "markdown",
   "metadata": {
    "id": "qLafSQWoWsLD"
   },
   "source": [
    "Проверим, улучшились ли показатели метрик после произведенных улучшений бейзлайна"
   ]
  },
  {
   "cell_type": "code",
   "execution_count": null,
   "metadata": {
    "colab": {
     "base_uri": "https://localhost:8080/"
    },
    "id": "KHuIBOlGWt3s",
    "outputId": "b7d867e8-e832-4a98-e895-e4e1f2b6df4c"
   },
   "outputs": [],
   "source": [
    "(X_train, y_train), (X_test, y_test) = generate_train_data(optimized_ds)\n",
    "\n",
    "model = sklearn.linear_model.LinearRegression()\n",
    "model.fit(X_train, y_train)\n",
    "\n",
    "print_model_metrics(model, X_test, y_test)"
   ]
  },
  {
   "cell_type": "markdown",
   "metadata": {
    "id": "9LxNXQ4wWw4J"
   },
   "source": [
    "Как видим, хоть и незначительно, но значение метрики `MAE` уменьшилось, а следовательно гипотеза была верна!"
   ]
  },
  {
   "cell_type": "markdown",
   "metadata": {
    "id": "5dPMq5NlW3-S"
   },
   "source": [
    "#### Избавление от выбросов"
   ]
  },
  {
   "cell_type": "markdown",
   "metadata": {
    "id": "uCIJo8kSW4x2"
   },
   "source": [
    "Также, частой проблемй являются выбросы данных, особенно для линейных моделей, так как такие значения сильно выходят за рамки основного распределения, что может негативно сказаться на процессе обучения модели, помешав методу оптимизации найти оптимальный набор весов."
   ]
  },
  {
   "cell_type": "markdown",
   "metadata": {
    "id": "0hUFKsrwXJ_x"
   },
   "source": [
    "Возьмем за целевой признак `Trip_Distance_km`, выбросы в котором мы будем удалять. Для визуального анализа на наличие выбросов отобразим 3 графика:\n",
    "\n",
    "- Ящик с усами, который визуально демонстрирует основные параметры распределения\n",
    "- Гистограмму, описывающую распределение значений\n",
    "- График `Trip Distance vs Trip Price`, чтобы рассмотреть, как целевая переменная заивсит от значений признака"
   ]
  },
  {
   "cell_type": "code",
   "execution_count": null,
   "metadata": {
    "colab": {
     "base_uri": "https://localhost:8080/",
     "height": 407
    },
    "id": "bRqoKJyDX6BE",
    "outputId": "ce24223c-6e2d-4dcc-e337-26ea27dd51cf"
   },
   "outputs": [],
   "source": [
    "fig, axes = plt.subplots(1, 3, figsize=(20, 6), constrained_layout=True)\n",
    "\n",
    "sns.scatterplot(\n",
    "    x=\"Trip_Distance_km\",\n",
    "    y=\"Trip_Price\",\n",
    "    data=optimized_ds,\n",
    "    ax=axes[0]\n",
    ")\n",
    "axes[0].set_title(\"Trip Distance vs Trip Price\")\n",
    "axes[0].set_xlabel(\"Trip Distance (km)\")\n",
    "axes[0].set_ylabel(\"Trip Price\")\n",
    "axes[0].grid(True)\n",
    "\n",
    "axes[1].hist(optimized_ds[\"Trip_Distance_km\"], bins=30, color=\"skyblue\", edgecolor=\"black\")\n",
    "axes[1].set_title(\"Распределение Trip Distance\")\n",
    "axes[1].set_xlabel(\"Trip Distance (km)\")\n",
    "axes[1].set_ylabel(\"Frequency\")\n",
    "\n",
    "sns.boxplot(\n",
    "    y=\"Trip_Distance_km\",\n",
    "    data=optimized_ds,\n",
    "    ax=axes[2]\n",
    ")\n",
    "axes[2].set_title(\"Boxplot of Trip Distance\")\n",
    "axes[2].set_ylabel(\"Trip Distance (km)\")\n",
    "\n",
    "plt.show()"
   ]
  },
  {
   "cell_type": "markdown",
   "metadata": {
    "id": "vvnk4NEJYZWb"
   },
   "source": [
    "И так, судя по гистограмме, мы видим, что основная часть находится в диапазоне `[0; 50]` километров, а также есть длинный \"хвост\", который указывает на наличие выбросов.\n",
    "\n",
    "Наличие выбросов также подтверждает ящик с усами. Также, стоит отметить, что основная часть данных сосредоточена в интерквартильном диапазоне.\n",
    "\n",
    "Судя по последнему графику, видна связь между `Trip_Distance_km` и `Trip_Price`: с увеличением расстояния цена растет. А следовательно, данный признак влияет на итоговые предсказания.\n"
   ]
  },
  {
   "cell_type": "code",
   "execution_count": null,
   "metadata": {
    "colab": {
     "base_uri": "https://localhost:8080/",
     "height": 206
    },
    "id": "58F0s8gAY23g",
    "outputId": "9cc29591-89ba-4e2c-8bab-289045b19297"
   },
   "outputs": [],
   "source": [
    "Q1 = optimized_ds[\"Trip_Distance_km\"].quantile(0.25)\n",
    "Q3 = optimized_ds[\"Trip_Distance_km\"].quantile(0.75)\n",
    "IQR = Q3 - Q1\n",
    "\n",
    "lower_bound = Q1 - 1.5 * IQR\n",
    "upper_bound = Q3 + 1.5 * IQR\n",
    "\n",
    "optimized_ds_2 = optimized_ds[(lower_bound <= optimized_ds[\"Trip_Distance_km\"]) & (optimized_ds[\"Trip_Distance_km\"] <= upper_bound)]\n",
    "optimized_ds_2.head()"
   ]
  },
  {
   "cell_type": "markdown",
   "metadata": {
    "id": "bNnlDpt5Y_qu"
   },
   "source": [
    "Проверим, улучшились ли показатели метрик после произведенных улучшений бейзлайна"
   ]
  },
  {
   "cell_type": "code",
   "execution_count": null,
   "metadata": {
    "colab": {
     "base_uri": "https://localhost:8080/"
    },
    "id": "2rRCTxDqZBZI",
    "outputId": "8b8b1a30-887e-414c-a339-5b77fa92280f"
   },
   "outputs": [],
   "source": [
    "(X_train, y_train), (X_test, y_test) = generate_train_data(optimized_ds_2)\n",
    "\n",
    "model = sklearn.linear_model.LinearRegression()\n",
    "model.fit(X_train, y_train)\n",
    "\n",
    "print_model_metrics(model, X_test, y_test)"
   ]
  },
  {
   "cell_type": "markdown",
   "metadata": {
    "id": "hTIFRzuKZEzZ"
   },
   "source": [
    "Как видим, избавление от выбросов дало значительные улучшения! А следовательно гипотеза была верна!"
   ]
  },
  {
   "cell_type": "markdown",
   "metadata": {
    "id": "1gC7fwmZZbpO"
   },
   "source": [
    "#### Feature engineering"
   ]
  },
  {
   "cell_type": "markdown",
   "metadata": {
    "id": "MkZAiYpEZcb1"
   },
   "source": [
    "Как было видно при решении задачи регрессии, применение feature engineering при улучшении бейзлайна может оказать значительный прирост в качестве модели. Попробуем провести аналогичные действия для задачи регрессии.\n",
    "\n",
    "Однако, в этот раз попробуем подобрать пару признаков не методом подбора, а логически. Можно заметить, что датасет содержит такие признаки, как `Trip_Distance_km` и `Per_Km_Rate`, которые соответствуют длине поездки в километрах и стоимости поездки на километр.\n",
    "\n",
    "Логичным было бы добавление признака, описывающего возможную цену поездки на основе этих двух параметров."
   ]
  },
  {
   "cell_type": "code",
   "execution_count": null,
   "metadata": {
    "colab": {
     "base_uri": "https://localhost:8080/",
     "height": 206
    },
    "id": "w_mQ-iTRacJZ",
    "outputId": "e4985fc3-0d90-4388-8677-ccca7e7dc381"
   },
   "outputs": [],
   "source": [
    "optimized_ds_3 = optimized_ds_2.copy()\n",
    "\n",
    "optimized_ds_3[\"Per_Km_Rate__Trip_Distance_km\"] = optimized_ds_3[\"Trip_Distance_km\"] * optimized_ds_3[\"Per_Km_Rate\"]\n",
    "optimized_ds_3 = optimized_ds_3.drop(columns=[\"Trip_Distance_km\", \"Per_Km_Rate\"])\n",
    "\n",
    "optimized_ds_3.head()"
   ]
  },
  {
   "cell_type": "markdown",
   "metadata": {
    "id": "Gh_XRrmbalUT"
   },
   "source": [
    "Проверим, улучшились ли показатели метрик после произведенных улучшений бейзлайна"
   ]
  },
  {
   "cell_type": "code",
   "execution_count": null,
   "metadata": {
    "colab": {
     "base_uri": "https://localhost:8080/"
    },
    "id": "wxnxXaIsajpK",
    "outputId": "d37364e5-ca50-419e-9d56-144cee5401f1"
   },
   "outputs": [],
   "source": [
    "(X_train, y_train), (X_test, y_test) = generate_train_data(optimized_ds_3)\n",
    "\n",
    "model = sklearn.linear_model.LinearRegression()\n",
    "model.fit(X_train, y_train)\n",
    "\n",
    "print_model_metrics(model, X_test, y_test)"
   ]
  },
  {
   "cell_type": "markdown",
   "metadata": {
    "id": "OP0U5-zlaoCN"
   },
   "source": [
    "Как видим, добавление нового признака дало значительные улучшения! А следовательно гипотеза была верна!"
   ]
  },
  {
   "cell_type": "markdown",
   "metadata": {
    "id": "jFbYTD5_asU0"
   },
   "source": [
    "Попробуем провести аналогичные действия на основе тех же предположений для признаков `Trip_Duration_Minutes` и `Per_Minute_Rate`"
   ]
  },
  {
   "cell_type": "code",
   "execution_count": null,
   "metadata": {
    "colab": {
     "base_uri": "https://localhost:8080/",
     "height": 206
    },
    "id": "DnIZYn6cawcy",
    "outputId": "ec8796c1-3e71-4e95-9470-dd4b5b94bb1b"
   },
   "outputs": [],
   "source": [
    "optimized_ds_4 = optimized_ds_3.copy()\n",
    "\n",
    "optimized_ds_4[\"Per_Minute_Rate__Trip_Duration_Minutes\"] = optimized_ds_4[\"Trip_Duration_Minutes\"] * optimized_ds_4[\"Per_Minute_Rate\"]\n",
    "optimized_ds_4 = optimized_ds_4.drop(columns=[\"Trip_Duration_Minutes\", \"Per_Minute_Rate\"])\n",
    "\n",
    "optimized_ds_4.head()"
   ]
  },
  {
   "cell_type": "code",
   "execution_count": null,
   "metadata": {
    "colab": {
     "base_uri": "https://localhost:8080/"
    },
    "id": "5Fqub6hsa3zW",
    "outputId": "3eaf99e0-5ce1-4ccf-e9bc-07977947e77e"
   },
   "outputs": [],
   "source": [
    "(X_train, y_train), (X_test, y_test) = generate_train_data(optimized_ds_4)\n",
    "\n",
    "model = sklearn.linear_model.LinearRegression()\n",
    "model.fit(X_train, y_train)\n",
    "\n",
    "print_model_metrics(model, X_test, y_test)"
   ]
  },
  {
   "cell_type": "markdown",
   "metadata": {
    "id": "yFWs3XyFa6Co"
   },
   "source": [
    "Как видно, добавление еще одного нового признака еще сильнее улучшело качество итоговой модели."
   ]
  },
  {
   "cell_type": "markdown",
   "metadata": {
    "id": "sF77oJS_bFFf"
   },
   "source": [
    "### 4. Имплементация алгоритма машинного обучения"
   ]
  },
  {
   "cell_type": "markdown",
   "metadata": {
    "id": "QaUsFdPTbHyW"
   },
   "source": [
    "Перейдем теперь к собственной имплементации алгоритма линейной регрессии для решения задачи регрессии. Решение я реализовал в виде класса `MyLinearRegression`, который имеет интерфейс, схожий с тем, что используется в библиотеке `sklearn`. присутствуют 2 метода: `fit` - для обучения модели, `predict` - для предсказания классов для уже обученной модели.\n",
    "\n",
    "В отличие от реализации логической регрессии, здесь я не использовал итеративные методы оптимизации в силу того, что целевая функция, которую необходимо минимизировать, имеет довольно простую структуру. А следовательно, можно воспользоваться другими методами, такими как методом Гаусса для решения СЛАУ."
   ]
  },
  {
   "cell_type": "code",
   "execution_count": null,
   "metadata": {
    "id": "nWQWwwdjbNdg"
   },
   "outputs": [],
   "source": [
    "class MyLinearRegression:\n",
    "  def __init__(self):\n",
    "    self.__weights = None\n",
    "\n",
    "  def __extend_x(self, X):\n",
    "    n = X.shape[0]\n",
    "    return np.append(np.ones((n, 1)), X, axis=1)\n",
    "\n",
    "  def fit(self, X_train, y_train):\n",
    "    extended_x = self.__extend_x(X_train)\n",
    "    A = extended_x.T @ extended_x\n",
    "    b = extended_x.T @ y_train\n",
    "    self.__weights = np.linalg.solve(A, b)\n",
    "\n",
    "  def predict(self, X_test):\n",
    "    return self.__extend_x(X_test) @ self.__weights"
   ]
  },
  {
   "cell_type": "markdown",
   "metadata": {
    "id": "R8HzZH85bzyJ"
   },
   "source": [
    "#### Сравнение с бейзлайном"
   ]
  },
  {
   "cell_type": "markdown",
   "metadata": {
    "id": "MwKz5Fx3b2dI"
   },
   "source": [
    "Обучим теперь реализованную модель на датасете, соответствущем бейзлайну. Из-за определенных ранее вспомогательных функций и схожего интерфейса класса модели основной алгоритм обучения не меняется."
   ]
  },
  {
   "cell_type": "code",
   "execution_count": null,
   "metadata": {
    "colab": {
     "base_uri": "https://localhost:8080/"
    },
    "id": "2mKso9GqbQLA",
    "outputId": "f46d1a1c-ad0a-4d6f-aba9-2c679781c652"
   },
   "outputs": [],
   "source": [
    "(X_train, y_train), (X_test, y_test) = generate_train_data(ва)\n",
    "\n",
    "model = MyLinearRegression()\n",
    "model.fit(X_train, y_train)\n",
    "\n",
    "print_model_metrics(model, X_test, y_test)"
   ]
  },
  {
   "cell_type": "markdown",
   "metadata": {
    "id": "-c9k6ffib4cX"
   },
   "source": [
    "Как видим, итоговые показатели метрик практически не отличаются по сравнению с теми, что были у модели из пункта 2, что говорит нам о схожести применяемых идей при реализации моделей."
   ]
  },
  {
   "cell_type": "code",
   "execution_count": null,
   "metadata": {
    "colab": {
     "base_uri": "https://localhost:8080/"
    },
    "id": "utb_-R8zbSK7",
    "outputId": "0159e173-b56a-4e5e-9ce7-7c102620f3d2"
   },
   "outputs": [],
   "source": [
    "(X_train, y_train), (X_test, y_test) = generate_train_data(optimized_ds_4)\n",
    "\n",
    "model = MyLinearRegression()\n",
    "model.fit(X_train, y_train)\n",
    "\n",
    "print_model_metrics(model, X_test, y_test)"
   ]
  },
  {
   "cell_type": "markdown",
   "metadata": {
    "id": "kP3a1LgocEg9"
   },
   "source": [
    "Аналогичная ситуация и при улучшенном бейзлайне: итоговые показатели метрик практически не отличаются от тех, что были у модели из пункта 3"
   ]
  }
 ],
 "metadata": {
  "colab": {
   "provenance": [],
   "toc_visible": true
  },
  "kernelspec": {
   "display_name": "Python 3 (ipykernel)",
   "language": "python",
   "name": "python3"
  },
  "language_info": {
   "codemirror_mode": {
    "name": "ipython",
    "version": 3
   },
   "file_extension": ".py",
   "mimetype": "text/x-python",
   "name": "python",
   "nbconvert_exporter": "python",
   "pygments_lexer": "ipython3",
   "version": "3.13.1"
  }
 },
 "nbformat": 4,
 "nbformat_minor": 4
}
