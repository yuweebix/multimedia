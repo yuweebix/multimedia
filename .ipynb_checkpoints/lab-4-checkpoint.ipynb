{
 "cells": [
  {
   "cell_type": "markdown",
   "metadata": {
    "id": "BmmaY0Yewwjw"
   },
   "source": [
    "# Лабораторная работа №4 \"Проведение исследований со случайным лесом\""
   ]
  },
  {
   "cell_type": "code",
   "execution_count": 2,
   "metadata": {
    "id": "dH1Yo8x5wDpK"
   },
   "outputs": [],
   "source": [
    "from typing import Union\n",
    "from dataclasses import dataclass\n",
    "\n",
    "import abc\n",
    "import tqdm\n",
    "import collections\n",
    "import math\n",
    "\n",
    "import pandas as pd\n",
    "import matplotlib.pyplot as plt\n",
    "import seaborn as sns\n",
    "import numpy as np\n",
    "\n",
    "import sklearn.model_selection\n",
    "import sklearn.preprocessing\n",
    "import sklearn.ensemble"
   ]
  },
  {
   "cell_type": "markdown",
   "metadata": {
    "id": "j-3E0W_3xDCj"
   },
   "source": [
    "## Классификация"
   ]
  },
  {
   "cell_type": "markdown",
   "metadata": {
    "id": "NzyZZSRzxFQy"
   },
   "source": [
    "### 2. Создание бейзлайна и оценка качества"
   ]
  },
  {
   "cell_type": "markdown",
   "metadata": {},
   "source": [
    "Взято из певой лабораторной работы"
   ]
  },
  {
   "cell_type": "markdown",
   "metadata": {
    "id": "5Wfx1s49xHSZ"
   },
   "source": [
    "#### Подготовка бейзлайна"
   ]
  },
  {
   "cell_type": "code",
   "execution_count": 3,
   "metadata": {},
   "outputs": [],
   "source": [
    "# !kaggle datasets download -q -p dataset -d hopesb/student-depression-dataset\n",
    "# !unzip dataset/student-depression-dataset.zip -d dataset/"
   ]
  },
  {
   "cell_type": "code",
   "execution_count": 4,
   "metadata": {},
   "outputs": [
    {
     "data": {
      "text/html": [
       "<div>\n",
       "<style scoped>\n",
       "    .dataframe tbody tr th:only-of-type {\n",
       "        vertical-align: middle;\n",
       "    }\n",
       "\n",
       "    .dataframe tbody tr th {\n",
       "        vertical-align: top;\n",
       "    }\n",
       "\n",
       "    .dataframe thead th {\n",
       "        text-align: right;\n",
       "    }\n",
       "</style>\n",
       "<table border=\"1\" class=\"dataframe\">\n",
       "  <thead>\n",
       "    <tr style=\"text-align: right;\">\n",
       "      <th></th>\n",
       "      <th>id</th>\n",
       "      <th>Gender</th>\n",
       "      <th>Age</th>\n",
       "      <th>City</th>\n",
       "      <th>Profession</th>\n",
       "      <th>Academic Pressure</th>\n",
       "      <th>Work Pressure</th>\n",
       "      <th>CGPA</th>\n",
       "      <th>Study Satisfaction</th>\n",
       "      <th>Job Satisfaction</th>\n",
       "      <th>Sleep Duration</th>\n",
       "      <th>Dietary Habits</th>\n",
       "      <th>Degree</th>\n",
       "      <th>Have you ever had suicidal thoughts ?</th>\n",
       "      <th>Work/Study Hours</th>\n",
       "      <th>Financial Stress</th>\n",
       "      <th>Family History of Mental Illness</th>\n",
       "      <th>Depression</th>\n",
       "    </tr>\n",
       "  </thead>\n",
       "  <tbody>\n",
       "    <tr>\n",
       "      <th>0</th>\n",
       "      <td>2</td>\n",
       "      <td>Male</td>\n",
       "      <td>33.0</td>\n",
       "      <td>Visakhapatnam</td>\n",
       "      <td>Student</td>\n",
       "      <td>5.0</td>\n",
       "      <td>0.0</td>\n",
       "      <td>8.97</td>\n",
       "      <td>2.0</td>\n",
       "      <td>0.0</td>\n",
       "      <td>5-6 hours</td>\n",
       "      <td>Healthy</td>\n",
       "      <td>B.Pharm</td>\n",
       "      <td>Yes</td>\n",
       "      <td>3.0</td>\n",
       "      <td>1.0</td>\n",
       "      <td>No</td>\n",
       "      <td>1</td>\n",
       "    </tr>\n",
       "    <tr>\n",
       "      <th>1</th>\n",
       "      <td>8</td>\n",
       "      <td>Female</td>\n",
       "      <td>24.0</td>\n",
       "      <td>Bangalore</td>\n",
       "      <td>Student</td>\n",
       "      <td>2.0</td>\n",
       "      <td>0.0</td>\n",
       "      <td>5.90</td>\n",
       "      <td>5.0</td>\n",
       "      <td>0.0</td>\n",
       "      <td>5-6 hours</td>\n",
       "      <td>Moderate</td>\n",
       "      <td>BSc</td>\n",
       "      <td>No</td>\n",
       "      <td>3.0</td>\n",
       "      <td>2.0</td>\n",
       "      <td>Yes</td>\n",
       "      <td>0</td>\n",
       "    </tr>\n",
       "    <tr>\n",
       "      <th>2</th>\n",
       "      <td>26</td>\n",
       "      <td>Male</td>\n",
       "      <td>31.0</td>\n",
       "      <td>Srinagar</td>\n",
       "      <td>Student</td>\n",
       "      <td>3.0</td>\n",
       "      <td>0.0</td>\n",
       "      <td>7.03</td>\n",
       "      <td>5.0</td>\n",
       "      <td>0.0</td>\n",
       "      <td>Less than 5 hours</td>\n",
       "      <td>Healthy</td>\n",
       "      <td>BA</td>\n",
       "      <td>No</td>\n",
       "      <td>9.0</td>\n",
       "      <td>1.0</td>\n",
       "      <td>Yes</td>\n",
       "      <td>0</td>\n",
       "    </tr>\n",
       "    <tr>\n",
       "      <th>3</th>\n",
       "      <td>30</td>\n",
       "      <td>Female</td>\n",
       "      <td>28.0</td>\n",
       "      <td>Varanasi</td>\n",
       "      <td>Student</td>\n",
       "      <td>3.0</td>\n",
       "      <td>0.0</td>\n",
       "      <td>5.59</td>\n",
       "      <td>2.0</td>\n",
       "      <td>0.0</td>\n",
       "      <td>7-8 hours</td>\n",
       "      <td>Moderate</td>\n",
       "      <td>BCA</td>\n",
       "      <td>Yes</td>\n",
       "      <td>4.0</td>\n",
       "      <td>5.0</td>\n",
       "      <td>Yes</td>\n",
       "      <td>1</td>\n",
       "    </tr>\n",
       "    <tr>\n",
       "      <th>4</th>\n",
       "      <td>32</td>\n",
       "      <td>Female</td>\n",
       "      <td>25.0</td>\n",
       "      <td>Jaipur</td>\n",
       "      <td>Student</td>\n",
       "      <td>4.0</td>\n",
       "      <td>0.0</td>\n",
       "      <td>8.13</td>\n",
       "      <td>3.0</td>\n",
       "      <td>0.0</td>\n",
       "      <td>5-6 hours</td>\n",
       "      <td>Moderate</td>\n",
       "      <td>M.Tech</td>\n",
       "      <td>Yes</td>\n",
       "      <td>1.0</td>\n",
       "      <td>1.0</td>\n",
       "      <td>No</td>\n",
       "      <td>0</td>\n",
       "    </tr>\n",
       "  </tbody>\n",
       "</table>\n",
       "</div>"
      ],
      "text/plain": [
       "   id  Gender   Age           City Profession  Academic Pressure  \\\n",
       "0   2    Male  33.0  Visakhapatnam    Student                5.0   \n",
       "1   8  Female  24.0      Bangalore    Student                2.0   \n",
       "2  26    Male  31.0       Srinagar    Student                3.0   \n",
       "3  30  Female  28.0       Varanasi    Student                3.0   \n",
       "4  32  Female  25.0         Jaipur    Student                4.0   \n",
       "\n",
       "   Work Pressure  CGPA  Study Satisfaction  Job Satisfaction  \\\n",
       "0            0.0  8.97                 2.0               0.0   \n",
       "1            0.0  5.90                 5.0               0.0   \n",
       "2            0.0  7.03                 5.0               0.0   \n",
       "3            0.0  5.59                 2.0               0.0   \n",
       "4            0.0  8.13                 3.0               0.0   \n",
       "\n",
       "      Sleep Duration Dietary Habits   Degree  \\\n",
       "0          5-6 hours        Healthy  B.Pharm   \n",
       "1          5-6 hours       Moderate      BSc   \n",
       "2  Less than 5 hours        Healthy       BA   \n",
       "3          7-8 hours       Moderate      BCA   \n",
       "4          5-6 hours       Moderate   M.Tech   \n",
       "\n",
       "  Have you ever had suicidal thoughts ?  Work/Study Hours  Financial Stress  \\\n",
       "0                                   Yes               3.0               1.0   \n",
       "1                                    No               3.0               2.0   \n",
       "2                                    No               9.0               1.0   \n",
       "3                                   Yes               4.0               5.0   \n",
       "4                                   Yes               1.0               1.0   \n",
       "\n",
       "  Family History of Mental Illness  Depression  \n",
       "0                               No           1  \n",
       "1                              Yes           0  \n",
       "2                              Yes           0  \n",
       "3                              Yes           1  \n",
       "4                               No           0  "
      ]
     },
     "execution_count": 4,
     "metadata": {},
     "output_type": "execute_result"
    }
   ],
   "source": [
    "ds = pd.read_csv(\"dataset/Student Depression Dataset.csv\")\n",
    "ds.head()"
   ]
  },
  {
   "cell_type": "code",
   "execution_count": 5,
   "metadata": {
    "colab": {
     "base_uri": "https://localhost:8080/",
     "height": 299
    },
    "id": "u9dramE8xKw6",
    "outputId": "46239a16-e253-453d-8fc0-78f3e74b4b47"
   },
   "outputs": [
    {
     "data": {
      "text/html": [
       "<div>\n",
       "<style scoped>\n",
       "    .dataframe tbody tr th:only-of-type {\n",
       "        vertical-align: middle;\n",
       "    }\n",
       "\n",
       "    .dataframe tbody tr th {\n",
       "        vertical-align: top;\n",
       "    }\n",
       "\n",
       "    .dataframe thead th {\n",
       "        text-align: right;\n",
       "    }\n",
       "</style>\n",
       "<table border=\"1\" class=\"dataframe\">\n",
       "  <thead>\n",
       "    <tr style=\"text-align: right;\">\n",
       "      <th></th>\n",
       "      <th>Age</th>\n",
       "      <th>Academic Pressure</th>\n",
       "      <th>CGPA</th>\n",
       "      <th>Study Satisfaction</th>\n",
       "      <th>Work/Study Hours</th>\n",
       "      <th>Financial Stress</th>\n",
       "      <th>Depression</th>\n",
       "      <th>Gender_Female</th>\n",
       "      <th>Gender_Male</th>\n",
       "      <th>City_3.0</th>\n",
       "      <th>...</th>\n",
       "      <th>Degree_MD</th>\n",
       "      <th>Degree_ME</th>\n",
       "      <th>Degree_MHM</th>\n",
       "      <th>Degree_MSc</th>\n",
       "      <th>Degree_Others</th>\n",
       "      <th>Degree_PhD</th>\n",
       "      <th>Have you ever had suicidal thoughts ?_No</th>\n",
       "      <th>Have you ever had suicidal thoughts ?_Yes</th>\n",
       "      <th>Family History of Mental Illness_No</th>\n",
       "      <th>Family History of Mental Illness_Yes</th>\n",
       "    </tr>\n",
       "  </thead>\n",
       "  <tbody>\n",
       "    <tr>\n",
       "      <th>0</th>\n",
       "      <td>33.0</td>\n",
       "      <td>5.0</td>\n",
       "      <td>8.97</td>\n",
       "      <td>2.0</td>\n",
       "      <td>3.0</td>\n",
       "      <td>1.0</td>\n",
       "      <td>1</td>\n",
       "      <td>0</td>\n",
       "      <td>1</td>\n",
       "      <td>0</td>\n",
       "      <td>...</td>\n",
       "      <td>0</td>\n",
       "      <td>0</td>\n",
       "      <td>0</td>\n",
       "      <td>0</td>\n",
       "      <td>0</td>\n",
       "      <td>0</td>\n",
       "      <td>0</td>\n",
       "      <td>1</td>\n",
       "      <td>1</td>\n",
       "      <td>0</td>\n",
       "    </tr>\n",
       "    <tr>\n",
       "      <th>1</th>\n",
       "      <td>24.0</td>\n",
       "      <td>2.0</td>\n",
       "      <td>5.90</td>\n",
       "      <td>5.0</td>\n",
       "      <td>3.0</td>\n",
       "      <td>2.0</td>\n",
       "      <td>0</td>\n",
       "      <td>1</td>\n",
       "      <td>0</td>\n",
       "      <td>0</td>\n",
       "      <td>...</td>\n",
       "      <td>0</td>\n",
       "      <td>0</td>\n",
       "      <td>0</td>\n",
       "      <td>0</td>\n",
       "      <td>0</td>\n",
       "      <td>0</td>\n",
       "      <td>1</td>\n",
       "      <td>0</td>\n",
       "      <td>0</td>\n",
       "      <td>1</td>\n",
       "    </tr>\n",
       "    <tr>\n",
       "      <th>2</th>\n",
       "      <td>31.0</td>\n",
       "      <td>3.0</td>\n",
       "      <td>7.03</td>\n",
       "      <td>5.0</td>\n",
       "      <td>9.0</td>\n",
       "      <td>1.0</td>\n",
       "      <td>0</td>\n",
       "      <td>0</td>\n",
       "      <td>1</td>\n",
       "      <td>0</td>\n",
       "      <td>...</td>\n",
       "      <td>0</td>\n",
       "      <td>0</td>\n",
       "      <td>0</td>\n",
       "      <td>0</td>\n",
       "      <td>0</td>\n",
       "      <td>0</td>\n",
       "      <td>1</td>\n",
       "      <td>0</td>\n",
       "      <td>0</td>\n",
       "      <td>1</td>\n",
       "    </tr>\n",
       "    <tr>\n",
       "      <th>3</th>\n",
       "      <td>28.0</td>\n",
       "      <td>3.0</td>\n",
       "      <td>5.59</td>\n",
       "      <td>2.0</td>\n",
       "      <td>4.0</td>\n",
       "      <td>5.0</td>\n",
       "      <td>1</td>\n",
       "      <td>1</td>\n",
       "      <td>0</td>\n",
       "      <td>0</td>\n",
       "      <td>...</td>\n",
       "      <td>0</td>\n",
       "      <td>0</td>\n",
       "      <td>0</td>\n",
       "      <td>0</td>\n",
       "      <td>0</td>\n",
       "      <td>0</td>\n",
       "      <td>0</td>\n",
       "      <td>1</td>\n",
       "      <td>0</td>\n",
       "      <td>1</td>\n",
       "    </tr>\n",
       "    <tr>\n",
       "      <th>4</th>\n",
       "      <td>25.0</td>\n",
       "      <td>4.0</td>\n",
       "      <td>8.13</td>\n",
       "      <td>3.0</td>\n",
       "      <td>1.0</td>\n",
       "      <td>1.0</td>\n",
       "      <td>0</td>\n",
       "      <td>1</td>\n",
       "      <td>0</td>\n",
       "      <td>0</td>\n",
       "      <td>...</td>\n",
       "      <td>0</td>\n",
       "      <td>0</td>\n",
       "      <td>0</td>\n",
       "      <td>0</td>\n",
       "      <td>0</td>\n",
       "      <td>0</td>\n",
       "      <td>0</td>\n",
       "      <td>1</td>\n",
       "      <td>1</td>\n",
       "      <td>0</td>\n",
       "    </tr>\n",
       "  </tbody>\n",
       "</table>\n",
       "<p>5 rows × 102 columns</p>\n",
       "</div>"
      ],
      "text/plain": [
       "    Age  Academic Pressure  CGPA  Study Satisfaction  Work/Study Hours  \\\n",
       "0  33.0                5.0  8.97                 2.0               3.0   \n",
       "1  24.0                2.0  5.90                 5.0               3.0   \n",
       "2  31.0                3.0  7.03                 5.0               9.0   \n",
       "3  28.0                3.0  5.59                 2.0               4.0   \n",
       "4  25.0                4.0  8.13                 3.0               1.0   \n",
       "\n",
       "   Financial Stress  Depression  Gender_Female  Gender_Male  City_3.0  ...  \\\n",
       "0               1.0           1              0            1         0  ...   \n",
       "1               2.0           0              1            0         0  ...   \n",
       "2               1.0           0              0            1         0  ...   \n",
       "3               5.0           1              1            0         0  ...   \n",
       "4               1.0           0              1            0         0  ...   \n",
       "\n",
       "   Degree_MD  Degree_ME  Degree_MHM  Degree_MSc  Degree_Others  Degree_PhD  \\\n",
       "0          0          0           0           0              0           0   \n",
       "1          0          0           0           0              0           0   \n",
       "2          0          0           0           0              0           0   \n",
       "3          0          0           0           0              0           0   \n",
       "4          0          0           0           0              0           0   \n",
       "\n",
       "   Have you ever had suicidal thoughts ?_No  \\\n",
       "0                                         0   \n",
       "1                                         1   \n",
       "2                                         1   \n",
       "3                                         0   \n",
       "4                                         0   \n",
       "\n",
       "   Have you ever had suicidal thoughts ?_Yes  \\\n",
       "0                                          1   \n",
       "1                                          0   \n",
       "2                                          0   \n",
       "3                                          1   \n",
       "4                                          1   \n",
       "\n",
       "   Family History of Mental Illness_No  Family History of Mental Illness_Yes  \n",
       "0                                    1                                     0  \n",
       "1                                    0                                     1  \n",
       "2                                    0                                     1  \n",
       "3                                    0                                     1  \n",
       "4                                    1                                     0  \n",
       "\n",
       "[5 rows x 102 columns]"
      ]
     },
     "execution_count": 5,
     "metadata": {},
     "output_type": "execute_result"
    }
   ],
   "source": [
    "df = ds[ds['Profession'] == 'Student']\n",
    "df = ds.drop(columns=[\"id\", \"Profession\", \"Work Pressure\", \"Job Satisfaction\"])\n",
    "\n",
    "df = pd.get_dummies(df, columns=[\"Gender\"], dtype=int)\n",
    "df = pd.get_dummies(df, columns=[\"City\"], dtype=int)\n",
    "df = pd.get_dummies(df, columns=[\"Sleep Duration\"], dtype=int)\n",
    "df = pd.get_dummies(df, columns=[\"Dietary Habits\"], dtype=int)\n",
    "df = pd.get_dummies(df, columns=[\"Degree\"], dtype=int)\n",
    "df = pd.get_dummies(df, columns=[\"Have you ever had suicidal thoughts ?\"], dtype=int)\n",
    "df = pd.get_dummies(df, columns=[\"Family History of Mental Illness\"], dtype=int)\n",
    "\n",
    "df = df.dropna()\n",
    "\n",
    "df.head()"
   ]
  },
  {
   "cell_type": "markdown",
   "metadata": {
    "id": "8p7N-JNjxPef"
   },
   "source": [
    "#### Обучение модели"
   ]
  },
  {
   "cell_type": "markdown",
   "metadata": {
    "id": "ry_ZJV2OxQrG"
   },
   "source": [
    "Аналогично первой лр"
   ]
  },
  {
   "cell_type": "code",
   "execution_count": 6,
   "metadata": {
    "id": "4nNzvwUlxSIC"
   },
   "outputs": [],
   "source": [
    "def generate_train_data(dataset, *, target_feature=\"Depression\", random_state=42, test_size=0.2):\n",
    "  X = dataset.drop(columns=[target_feature])\n",
    "  y = dataset[target_feature]\n",
    "\n",
    "  X_train, X_test, y_train, y_test = map(\n",
    "    np.array,\n",
    "    sklearn.model_selection.train_test_split(\n",
    "      X, y,\n",
    "      test_size=test_size,\n",
    "      random_state=random_state,\n",
    "    ),\n",
    "  )\n",
    "\n",
    "  return (X_train, y_train), (X_test, y_test)\n",
    "\n",
    "\n",
    "def get_model_metrics(model, X_test, y_test):\n",
    "  y_pred = model.predict(X_test)\n",
    "\n",
    "  accuracy = sklearn.metrics.accuracy_score(y_test, y_pred)\n",
    "  precision = sklearn.metrics.precision_score(y_test, y_pred)\n",
    "  recall = sklearn.metrics.recall_score(y_test, y_pred)\n",
    "  f1 = sklearn.metrics.f1_score(y_test, y_pred)\n",
    "\n",
    "  confusion_matrix = sklearn.metrics.confusion_matrix(y_test, y_pred)\n",
    "\n",
    "  return {\n",
    "    \"accuracy\": accuracy,\n",
    "    \"precision\": precision,\n",
    "    \"recall\": recall,\n",
    "    \"f1\": f1,\n",
    "    \"confusion_matrix\": confusion_matrix,\n",
    "  }\n",
    "\n",
    "\n",
    "def print_model_metrics(model, X_test, y_test):\n",
    "  metrics = get_model_metrics(model, X_test, y_test)\n",
    "\n",
    "  print(f\"Accuracy: {metrics['accuracy']:.4f}\")\n",
    "  print(f\"Precision: {metrics['precision']:.4f}\")\n",
    "  print(f\"Recall: {metrics['recall']:.4f}\")\n",
    "  print(f\"F1-Score: {metrics['f1']:.4f}\")\n",
    "\n",
    "  print(\"\\nConfusion Matrix:\")\n",
    "  print(metrics[\"confusion_matrix\"])"
   ]
  },
  {
   "cell_type": "markdown",
   "metadata": {
    "id": "gPScVpMExWvz"
   },
   "source": [
    "Обучим теперь модель случайного леса для решения задачи классификации на бейзлайн-датасете, который мы ранее определили, и выведем на экран показатели метрик для итоговой обученной модели."
   ]
  },
  {
   "cell_type": "code",
   "execution_count": 7,
   "metadata": {
    "colab": {
     "base_uri": "https://localhost:8080/"
    },
    "id": "ND66U_GOxkb2",
    "outputId": "4ff7cd7a-cbdf-4bee-fc01-5c70ad29fc09"
   },
   "outputs": [
    {
     "name": "stdout",
     "output_type": "stream",
     "text": [
      "Accuracy: 0.8375\n",
      "Precision: 0.8414\n",
      "Recall: 0.8864\n",
      "F1-Score: 0.8633\n",
      "\n",
      "Confusion Matrix:\n",
      "[[1808  540]\n",
      " [ 367 2865]]\n"
     ]
    }
   ],
   "source": [
    "(X_train, y_train), (X_test, y_test) = generate_train_data(df)\n",
    "\n",
    "model = sklearn.ensemble.RandomForestClassifier(random_state=42)\n",
    "model.fit(X_train, y_train)\n",
    "\n",
    "print_model_metrics(model, X_test, y_test)"
   ]
  },
  {
   "cell_type": "markdown",
   "metadata": {
    "id": "Zp8IJ4hVyPmZ"
   },
   "source": [
    "Датасет слишком хороший, и получается так, что значения всегда оказываются хорошими, и нечего сказать про них. Очень хорошие показатели, почти на уровне линейного бейзлайна."
   ]
  },
  {
   "cell_type": "markdown",
   "metadata": {
    "id": "B5Mrt32SzG5Z"
   },
   "source": [
    "### 3. Улучшение бейзлайна"
   ]
  },
  {
   "cell_type": "markdown",
   "metadata": {
    "id": "WwePiEaozIQT"
   },
   "source": [
    "#### Удаление лишних признаков"
   ]
  },
  {
   "cell_type": "markdown",
   "metadata": {
    "id": "DmAAdj0B-s1n"
   },
   "source": [
    "Одной из проблем со стороны датасета, которая может ухудшить итоговое качество модели, может быть мультиколлинеарность признаков.\n",
    "\n",
    "Так как мультиколлинеарные признаки несут дублирующую информацию, то деревья в ансамбле могут излишне сосредотачиваться на этих взаимосвязанных признаках, что приводит к ненужному усложнению модели, или, при использовании таких алгоритмов определения важности признаков, как Gini, может возникнуть ситуация, когда алгоритм будет завышать значимость одного из мультиколлинеарных признаков, \"забывая\" о других.\n",
    "\n",
    "Для обнаруженая мальтиколлинеарных пар признаков визуализируем матрицу корреляции.\n"
   ]
  },
  {
   "cell_type": "code",
   "execution_count": 8,
   "metadata": {
    "colab": {
     "base_uri": "https://localhost:8080/",
     "height": 1000
    },
    "id": "assUgH9s_Ts2",
    "outputId": "5368f533-7012-45b2-b1d0-97ed2505460e"
   },
   "outputs": [
    {
     "name": "stdout",
     "output_type": "stream",
     "text": [
      "Detected multicollinear feature pairs (|correlation| > 0.75):\n",
      "Gender_Female and Gender_Male: correlation = -1.00\n",
      "Have you ever had suicidal thoughts ?_No and Have you ever had suicidal thoughts ?_Yes: correlation = -1.00\n",
      "Family History of Mental Illness_No and Family History of Mental Illness_Yes: correlation = -1.00\n"
     ]
    },
    {
     "data": {
      "image/png": "[encoded data removed]",
      "text/plain": [
       "<Figure size 1200x1200 with 2 Axes>"
      ]
     },
     "metadata": {},
     "output_type": "display_data"
    }
   ],
   "source": [
    "corr_matrix = df.corr().drop(\"Depression\", axis=0).drop(\"Depression\", axis=1)\n",
    "\n",
    "correlation_threshold = 0.75\n",
    "\n",
    "high_corr_pairs = []\n",
    "for i in range(len(corr_matrix.columns)):\n",
    "    for j in range(i+1, len(corr_matrix.columns)):\n",
    "        if abs(corr_matrix.iloc[i, j]) > correlation_threshold:\n",
    "            feature_1 = corr_matrix.columns[i]\n",
    "            feature_2 = corr_matrix.columns[j]\n",
    "            corr_value = corr_matrix.iloc[i, j]\n",
    "            high_corr_pairs.append((feature_1, feature_2, corr_value))\n",
    "\n",
    "if high_corr_pairs:\n",
    "    print(\"Detected multicollinear feature pairs (|correlation| > {}):\".format(correlation_threshold))\n",
    "    for pair in high_corr_pairs:\n",
    "        print(f\"{pair[0]} and {pair[1]}: correlation = {pair[2]:.2f}\")\n",
    "else:\n",
    "    print(\"No multicollinear feature pairs detected (|correlation| > {}).\".format(correlation_threshold))\n",
    "\n",
    "if high_corr_pairs:\n",
    "    correlated_features = list(set([pair[0] for pair in high_corr_pairs] + [pair[1] for pair in high_corr_pairs]))\n",
    "    subset_corr_matrix = corr_matrix.loc[correlated_features, correlated_features]\n",
    "\n",
    "    plt.figure(figsize=(12, 12))\n",
    "    sns.heatmap(subset_corr_matrix, annot=True, fmt=\".2f\", cmap=\"coolwarm\")\n",
    "    plt.title(\"Subset Correlation Matrix of Highly Correlated Features\")\n",
    "    plt.show()"
   ]
  },
  {
   "cell_type": "markdown",
   "metadata": {
    "id": "k4aiclR1_glX"
   },
   "source": [
    "К сожалению, среди признаков не оказалось ничего кроме оппозиционных параметров, поэтому ничего удалить не получится. До меня дошло, что следовало пронумеровать страны, а не заhot-encodeть их. Но уже поздно исправлять."
   ]
  },
  {
   "cell_type": "markdown",
   "metadata": {
    "id": "M9UB0cFAA9Xn"
   },
   "source": [
    "#### Подбор гиперпараметров"
   ]
  },
  {
   "cell_type": "markdown",
   "metadata": {
    "id": "5zhVJ0DpBDgn"
   },
   "source": [
    "Иногда значения гиперпараметров, установленные в модели по умолчанию, не всегда являются оптимальными для конкретного датасета.\n",
    "\n",
    "Поэтому, иногда имеет смысл подобрать более оптимальные значения гиперпараметров, которые будут больше подходить для текущего датасета.\n",
    "\n",
    "Попробуем подобрать такие значения гиперпараметров на основе алгоритма grid search."
   ]
  },
  {
   "cell_type": "code",
   "execution_count": 9,
   "metadata": {
    "colab": {
     "base_uri": "https://localhost:8080/"
    },
    "id": "9avASN5E__pJ",
    "outputId": "877455e3-c511-41eb-f0fe-f27c06c93e9c"
   },
   "outputs": [
    {
     "name": "stdout",
     "output_type": "stream",
     "text": [
      "Best Parameters: {'max_depth': 10, 'max_features': None, 'min_samples_leaf': 4, 'min_samples_split': 10, 'n_estimators': 20}\n",
      "Accuracy: 0.8380\n",
      "Precision: 0.8428\n",
      "Recall: 0.8855\n",
      "F1-Score: 0.8636\n",
      "\n",
      "Confusion Matrix:\n",
      "[[1814  534]\n",
      " [ 370 2862]]\n"
     ]
    }
   ],
   "source": [
    "param_grid = {\n",
    "  \"n_estimators\": [5, 10, 20],\n",
    "  \"max_depth\": [None, 5, 10, 20],\n",
    "  \"min_samples_split\": [2, 5, 10],\n",
    "  \"min_samples_leaf\": [1, 2, 4],\n",
    "  \"max_features\": [\"sqrt\", \"log2\", None],\n",
    "}\n",
    "\n",
    "(X_train, y_train), (X_test, y_test) = generate_train_data(df)\n",
    "model = sklearn.ensemble.RandomForestClassifier(random_state=42)\n",
    "\n",
    "grid_search = sklearn.model_selection.GridSearchCV(\n",
    "    estimator=model,\n",
    "    param_grid=param_grid,\n",
    "    cv=5,\n",
    "    scoring=\"accuracy\",\n",
    "    n_jobs=-1,\n",
    ")\n",
    "\n",
    "grid_search.fit(X_train, y_train)\n",
    "\n",
    "\n",
    "best_params = grid_search.best_params_\n",
    "best_model = grid_search.best_estimator_\n",
    "\n",
    "print(f\"Best Parameters: {best_params}\")\n",
    "print_model_metrics(best_model, X_test, y_test)\n"
   ]
  },
  {
   "cell_type": "markdown",
   "metadata": {
    "id": "IvexHUYrBWYk"
   },
   "source": [
    "Очень схоже, и не сказать, что что-то изменилось."
   ]
  },
  {
   "cell_type": "markdown",
   "metadata": {
    "id": "e8U-b9Z-Bq1-"
   },
   "source": [
    "### 4. Имплементация алгоритма машинного обучения"
   ]
  },
  {
   "cell_type": "markdown",
   "metadata": {
    "id": "69W7Xzl_BrWl"
   },
   "source": [
    "Перейдем теперь к собственной имплементации алгоритма дерева решения для задачи регрессии. Решение я реализовал в виде класса `MyRandomForestClassifier`, который имеет интерфейс, схожий с тем, что используется в библиотеке `sklearn`. присутствуют 2 метода: `fit` - для обучения модели, `predict` - для предсказания классов для уже обученной модели.\n",
    "\n",
    "Так как смешанный лес является ансамблевым методом, то в его работе участвуют другие модели. В нашем случае это дерево решений. В качестве такой вспомогательной модели была взята имплементация алгоритма дерева решений из лабораторной работы №3.\n",
    "\n",
    "Также, так как процесс обучения стал значительно дольше, то была добавлена строка для отслеживания прогресса обучения модели."
   ]
  },
  {
   "cell_type": "code",
   "execution_count": 10,
   "metadata": {
    "id": "X7ertE-GEeDg"
   },
   "outputs": [],
   "source": [
    "_PredictedClass = int\n",
    "\n",
    "\n",
    "@dataclass\n",
    "class _SplitInfo:\n",
    "  index: int\n",
    "  threshold: float\n",
    "\n",
    "\n",
    "@dataclass\n",
    "class _TreeNode:\n",
    "  split_info: _SplitInfo\n",
    "  left: Union[\"_TreeNode\", _PredictedClass]\n",
    "  right: Union[\"_TreeNode\", _PredictedClass]\n",
    "\n",
    "\n",
    "class DecisionTreeBase(abc.ABC):\n",
    "  def __init__(self, *, max_depth=float(\"inf\")):\n",
    "    self.__max_depth = max_depth\n",
    "    self.__tree = None\n",
    "    super().__init__()\n",
    "\n",
    "  @abc.abstractmethod\n",
    "  def _metric(self, X, y, split_info):\n",
    "    raise NotImplementedError\n",
    "\n",
    "  def __get_best_split(self, X, y):\n",
    "    _, m = X.shape\n",
    "    best_split = max(\n",
    "      (\n",
    "        _SplitInfo(index=feature_index, threshold=threshold)\n",
    "        for feature_index in range(m)\n",
    "        for threshold in self.__get_thresholds(X, feature_index)\n",
    "      ),\n",
    "      key=lambda split_info: self._metric(X, y, split_info),\n",
    "      default=None,\n",
    "    )\n",
    "\n",
    "    if self._metric(X, y, best_split) == -float(\"inf\"):\n",
    "      return None\n",
    "    return best_split\n",
    "\n",
    "  def __split_data(self, X, y, split_info):\n",
    "    x = X[:, split_info.index]\n",
    "    left_ids = x <= split_info.threshold\n",
    "    right_ids = x > split_info.threshold\n",
    "\n",
    "    return (X[left_ids], y[left_ids]), (X[right_ids], y[right_ids])\n",
    "\n",
    "  def __build_decision_tree(self, X, y, depth=0):\n",
    "    n, _ = X.shape\n",
    "    unique_classes = set(y)\n",
    "\n",
    "    if len(unique_classes) == 1 or n <= 1:\n",
    "      return unique_classes.pop()\n",
    "\n",
    "    if depth >= self.__max_depth:\n",
    "      return collections.Counter(y).most_common(1)[0][0]\n",
    "\n",
    "    best_split = self.__get_best_split(X, y)\n",
    "    if best_split is None:\n",
    "      raise ValueError()\n",
    "\n",
    "    left_part, right_part = self.__split_data(X, y, best_split)\n",
    "\n",
    "    return _TreeNode(\n",
    "      split_info=best_split,\n",
    "      left=self.__build_decision_tree(*left_part, depth + 1),\n",
    "      right=self.__build_decision_tree(*right_part, depth + 1),\n",
    "    )\n",
    "\n",
    "  def __get_thresholds(self, X, feature_id):\n",
    "    return np.unique(X[:, feature_id])\n",
    "\n",
    "  def __predict(self, x):\n",
    "    cursor = self.__tree\n",
    "\n",
    "    while isinstance(cursor, _TreeNode):\n",
    "      feature_value = x[cursor.split_info.index]\n",
    "      cursor = cursor.left if feature_value <= cursor.split_info.threshold else cursor.right\n",
    "\n",
    "    return cursor\n",
    "\n",
    "  def fit(self, X, y):\n",
    "    self.__tree = self.__build_decision_tree(X, y)\n",
    "\n",
    "  def predict(self, X):\n",
    "    return np.array(list(map(self.__predict, X)))"
   ]
  },
  {
   "cell_type": "code",
   "execution_count": 11,
   "metadata": {
    "id": "_FIXecQ0BtK4"
   },
   "outputs": [],
   "source": [
    "class MyDecisionTreeClassifier(DecisionTreeBase):\n",
    "  def _metric(self, X, y, split_info):\n",
    "    feature_values = X[:, split_info.index]\n",
    "    left_indices = feature_values <= split_info.threshold\n",
    "    right_indices = feature_values > split_info.threshold\n",
    "\n",
    "    if np.sum(left_indices) == 0 or np.sum(right_indices) == 0:\n",
    "      return -float(\"inf\")\n",
    "\n",
    "    left_y = y[left_indices]\n",
    "    right_y = y[right_indices]\n",
    "\n",
    "    l = self.__get_entropy(left_y)\n",
    "    r = self.__get_entropy(right_y)\n",
    "\n",
    "    n = len(y)\n",
    "    return self.__get_entropy(y) - (len(left_y) / n * l + len(right_y) / n * r)\n",
    "\n",
    "  def __get_entropy(self, y):\n",
    "    class_counts = np.bincount(y)\n",
    "    probabilities = class_counts / len(y)\n",
    "    return -np.sum(probabilities * np.log2(probabilities + 1e-9))\n"
   ]
  },
  {
   "cell_type": "code",
   "execution_count": 12,
   "metadata": {
    "id": "ns3IWGQAB_zt"
   },
   "outputs": [],
   "source": [
    "def _get_max_value(param, default):\n",
    "  if param == \"sqrt\":\n",
    "    return int(math.sqrt(default))\n",
    "  if param is None:\n",
    "    return default\n",
    "  return param\n",
    "\n",
    "\n",
    "def _with_retries(func):\n",
    "  while True:\n",
    "    try:\n",
    "      return func()\n",
    "    except:\n",
    "      pass\n",
    "\n",
    "\n",
    "class MyRandomForestClassifier:\n",
    "  def __init__(self, trees_amount=10, max_depth=5, max_features=2):\n",
    "    self.__trees_amount = trees_amount\n",
    "    self.__tree_max_depth = max_depth\n",
    "    self.__max_features = max_features\n",
    "    self.__trees = None\n",
    "\n",
    "  def __create_new_tree(self, X, y):\n",
    "    n, m = X.shape\n",
    "    max_features = _get_max_value(self.__max_features, m)\n",
    "    max_depth = _get_max_value(self.__tree_max_depth, n)\n",
    "\n",
    "    sample_ids = np.random.choice(n, size=n, replace=True)\n",
    "    feature_ids = np.random.choice(m, max_features, replace=False)\n",
    "\n",
    "    selected_x = X[sample_ids][:, feature_ids]\n",
    "    selected_y = y[sample_ids]\n",
    "\n",
    "    tree = MyDecisionTreeClassifier(max_depth=max_depth)\n",
    "    tree.fit(selected_x, selected_y)\n",
    "    return tree, feature_ids\n",
    "\n",
    "  def fit(self, X, y):\n",
    "    self.__trees = [\n",
    "      _with_retries(lambda: self.__create_new_tree(X, y))\n",
    "      for _ in tqdm.tqdm(range(self.__trees_amount))\n",
    "    ]\n",
    "\n",
    "  def predict(self, X):\n",
    "    tree_predictions = np.array([tree.predict(X[:, features]) for tree, features in self.__trees])\n",
    "    return [collections.Counter(pred).most_common(1)[0][0] for pred in tree_predictions.T]"
   ]
  },
  {
   "cell_type": "markdown",
   "metadata": {
    "id": "IFEwaip3PWii"
   },
   "source": [
    "#### Сравнение с бейзлайном"
   ]
  },
  {
   "cell_type": "markdown",
   "metadata": {
    "id": "lsfLWLgPPX30"
   },
   "source": [
    "Обучим теперь реализованную модель на датасете, соответствущем бейзлайну. Из-за определенных ранее вспомогательных функций и схожего интерфейса класса модели основной алгоритм обучения не меняется."
   ]
  },
  {
   "cell_type": "code",
   "execution_count": 13,
   "metadata": {
    "colab": {
     "base_uri": "https://localhost:8080/"
    },
    "id": "-No3A8e6NiIA",
    "outputId": "2f4223a1-eacb-46e2-8c7e-930581cfaed3"
   },
   "outputs": [
    {
     "name": "stderr",
     "output_type": "stream",
     "text": [
      "100%|███████████████████████████████████████████████████████████████████| 10/10 [00:31<00:00,  3.16s/it]"
     ]
    },
    {
     "name": "stdout",
     "output_type": "stream",
     "text": [
      "Accuracy: 0.5792\n",
      "Precision: 0.5792\n",
      "Recall: 1.0000\n",
      "F1-Score: 0.7335\n",
      "\n",
      "Confusion Matrix:\n",
      "[[   0 2348]\n",
      " [   0 3232]]\n"
     ]
    },
    {
     "name": "stderr",
     "output_type": "stream",
     "text": [
      "\n"
     ]
    }
   ],
   "source": [
    "(X_train, y_train), (X_test, y_test) = generate_train_data(df)\n",
    "\n",
    "model = MyRandomForestClassifier()\n",
    "model.fit(X_train, y_train)\n",
    "\n",
    "print_model_metrics(model, X_test, y_test)"
   ]
  },
  {
   "cell_type": "markdown",
   "metadata": {
    "id": "3O6hSqsAPcmL"
   },
   "source": [
    "Интересный исход: абсолютно всем студентам приписывает депрессию. Имеет смысл."
   ]
  },
  {
   "cell_type": "code",
   "execution_count": 14,
   "metadata": {},
   "outputs": [
    {
     "name": "stderr",
     "output_type": "stream",
     "text": [
      "100%|███████████████████████████████████████████████████████████████████| 20/20 [19:58<00:00, 59.91s/it]\n"
     ]
    },
    {
     "name": "stdout",
     "output_type": "stream",
     "text": [
      "Accuracy: 0.7606\n",
      "Precision: 0.7317\n",
      "Recall: 0.9264\n",
      "F1-Score: 0.8176\n",
      "\n",
      "Confusion Matrix:\n",
      "[[1250 1098]\n",
      " [ 238 2994]]\n"
     ]
    }
   ],
   "source": [
    "(X_train, y_train), (X_test, y_test) = generate_train_data(df)\n",
    "\n",
    "model = MyRandomForestClassifier(\n",
    "    trees_amount=20,\n",
    "    max_depth=10,\n",
    "    max_features=10,\n",
    ")\n",
    "model.fit(X_train, y_train)\n",
    "\n",
    "print_model_metrics(model, X_test, y_test)"
   ]
  },
  {
   "cell_type": "markdown",
   "metadata": {
    "id": "Xg0jbzZmRmgj"
   },
   "source": [
    "Как видно, даже при улучшенном бейзлайне имплементированная модель показывает хуже результаты, чем модель из пункта 3.\n",
    "\n",
    "Получается так, что модели очень превалируют False-Positives."
   ]
  },
  {
   "cell_type": "markdown",
   "metadata": {
    "id": "XNBFuRP0SE4w"
   },
   "source": [
    "## Регрессия"
   ]
  },
  {
   "cell_type": "markdown",
   "metadata": {
    "id": "nGrxLflZSGMY"
   },
   "source": [
    "### 2. Создание бейзлайна и оценка качества"
   ]
  },
  {
   "cell_type": "markdown",
   "metadata": {
    "id": "bRAka0hJSHgj"
   },
   "source": [
    "#### Подготовка бейзлайна"
   ]
  },
  {
   "cell_type": "markdown",
   "metadata": {
    "id": "iVAxiOxnSJHi"
   },
   "source": [
    "Перед началом обучения модели сформируем бейзлайн, подобно тому, как это было выполнено в рамках лабораторной работы №1"
   ]
  },
  {
   "cell_type": "code",
   "execution_count": null,
   "metadata": {
    "colab": {
     "base_uri": "https://localhost:8080/"
    },
    "id": "D2tsr44ZSLeO",
    "outputId": "32fa4e89-cc9c-42e5-94f9-bc47122f19d3"
   },
   "outputs": [
    {
     "name": "stdout",
     "output_type": "stream",
     "text": [
      "Dataset URL: https://www.kaggle.com/datasets/denkuznetz/taxi-price-prediction\n",
      "License(s): apache-2.0\n",
      "Archive:  dataset/taxi-price-prediction.zip\n",
      "  inflating: dataset/taxi_trip_pricing.csv  \n"
     ]
    }
   ],
   "source": [
    "!kaggle datasets download -q -p dataset -d denkuznetz/taxi-price-prediction\n",
    "!unzip dataset/taxi-price-prediction.zip -d dataset/"
   ]
  },
  {
   "cell_type": "code",
   "execution_count": null,
   "metadata": {
    "colab": {
     "base_uri": "https://localhost:8080/",
     "height": 226
    },
    "id": "5fXwHhYzSNZM",
    "outputId": "cf451852-487c-4bd6-be4b-25992cdb4ae3"
   },
   "outputs": [
    {
     "data": {
      "application/vnd.google.colaboratory.intrinsic+json": {
       "summary": "{\n  \"name\": \"baseline_ds\",\n  \"rows\": 951,\n  \"fields\": [\n    {\n      \"column\": \"Trip_Distance_km\",\n      \"properties\": {\n        \"dtype\": \"number\",\n        \"std\": 19.61978451961453,\n        \"min\": 1.23,\n        \"max\": 146.0670471598387,\n        \"num_unique_values\": 827,\n        \"samples\": [\n          130.80900130744172,\n          38.42,\n          39.96\n        ],\n        \"semantic_type\": \"\",\n        \"description\": \"\"\n      }\n    },\n    {\n      \"column\": \"Passenger_Count\",\n      \"properties\": {\n        \"dtype\": \"number\",\n        \"std\": 1.077936959142477,\n        \"min\": 1.0,\n        \"max\": 4.0,\n        \"num_unique_values\": 4,\n        \"samples\": [\n          1.0,\n          2.0,\n          3.0\n        ],\n        \"semantic_type\": \"\",\n        \"description\": \"\"\n      }\n    },\n    {\n      \"column\": \"Base_Fare\",\n      \"properties\": {\n        \"dtype\": \"number\",\n        \"std\": 0.8464238435493024,\n        \"min\": 2.01,\n        \"max\": 5.0,\n        \"num_unique_values\": 286,\n        \"samples\": [\n          4.6,\n          2.37,\n          3.61\n        ],\n        \"semantic_type\": \"\",\n        \"description\": \"\"\n      }\n    },\n    {\n      \"column\": \"Per_Km_Rate\",\n      \"properties\": {\n        \"dtype\": \"number\",\n        \"std\": 0.4198881268533853,\n        \"min\": 0.5,\n        \"max\": 2.0,\n        \"num_unique_values\": 150,\n        \"samples\": [\n          1.65,\n          1.69,\n          0.5\n        ],\n        \"semantic_type\": \"\",\n        \"description\": \"\"\n      }\n    },\n    {\n      \"column\": \"Per_Minute_Rate\",\n      \"properties\": {\n        \"dtype\": \"number\",\n        \"std\": 0.11239203562447667,\n        \"min\": 0.1,\n        \"max\": 0.5,\n        \"num_unique_values\": 41,\n        \"samples\": [\n          0.26,\n          0.25,\n          0.34\n        ],\n        \"semantic_type\": \"\",\n        \"description\": \"\"\n      }\n    },\n    {\n      \"column\": \"Trip_Duration_Minutes\",\n      \"properties\": {\n        \"dtype\": \"number\",\n        \"std\": 31.529511153660437,\n        \"min\": 5.01,\n        \"max\": 119.84,\n        \"num_unique_values\": 873,\n        \"samples\": [\n          82.16,\n          76.53,\n          81.77\n        ],\n        \"semantic_type\": \"\",\n        \"description\": \"\"\n      }\n    },\n    {\n      \"column\": \"Trip_Price\",\n      \"properties\": {\n        \"dtype\": \"number\",\n        \"std\": 40.46979055020966,\n        \"min\": 6.1269,\n        \"max\": 332.0436886774302,\n        \"num_unique_values\": 951,\n        \"samples\": [\n          31.3844,\n          97.4848,\n          19.1069\n        ],\n        \"semantic_type\": \"\",\n        \"description\": \"\"\n      }\n    },\n    {\n      \"column\": \"Time_of_Day_Afternoon\",\n      \"properties\": {\n        \"dtype\": \"number\",\n        \"std\": 0,\n        \"min\": 0,\n        \"max\": 1,\n        \"num_unique_values\": 2,\n        \"samples\": [\n          1,\n          0\n        ],\n        \"semantic_type\": \"\",\n        \"description\": \"\"\n      }\n    },\n    {\n      \"column\": \"Time_of_Day_Evening\",\n      \"properties\": {\n        \"dtype\": \"number\",\n        \"std\": 0,\n        \"min\": 0,\n        \"max\": 1,\n        \"num_unique_values\": 2,\n        \"samples\": [\n          1,\n          0\n        ],\n        \"semantic_type\": \"\",\n        \"description\": \"\"\n      }\n    },\n    {\n      \"column\": \"Time_of_Day_Morning\",\n      \"properties\": {\n        \"dtype\": \"number\",\n        \"std\": 0,\n        \"min\": 0,\n        \"max\": 1,\n        \"num_unique_values\": 2,\n        \"samples\": [\n          0,\n          1\n        ],\n        \"semantic_type\": \"\",\n        \"description\": \"\"\n      }\n    },\n    {\n      \"column\": \"Time_of_Day_Night\",\n      \"properties\": {\n        \"dtype\": \"number\",\n        \"std\": 0,\n        \"min\": 0,\n        \"max\": 1,\n        \"num_unique_values\": 2,\n        \"samples\": [\n          1,\n          0\n        ],\n        \"semantic_type\": \"\",\n        \"description\": \"\"\n      }\n    },\n    {\n      \"column\": \"Day_of_Week_Weekday\",\n      \"properties\": {\n        \"dtype\": \"number\",\n        \"std\": 0,\n        \"min\": 0,\n        \"max\": 1,\n        \"num_unique_values\": 2,\n        \"samples\": [\n          0,\n          1\n        ],\n        \"semantic_type\": \"\",\n        \"description\": \"\"\n      }\n    },\n    {\n      \"column\": \"Day_of_Week_Weekend\",\n      \"properties\": {\n        \"dtype\": \"number\",\n        \"std\": 0,\n        \"min\": 0,\n        \"max\": 1,\n        \"num_unique_values\": 2,\n        \"samples\": [\n          1,\n          0\n        ],\n        \"semantic_type\": \"\",\n        \"description\": \"\"\n      }\n    },\n    {\n      \"column\": \"Traffic_Conditions_High\",\n      \"properties\": {\n        \"dtype\": \"number\",\n        \"std\": 0,\n        \"min\": 0,\n        \"max\": 1,\n        \"num_unique_values\": 2,\n        \"samples\": [\n          1,\n          0\n        ],\n        \"semantic_type\": \"\",\n        \"description\": \"\"\n      }\n    },\n    {\n      \"column\": \"Traffic_Conditions_Low\",\n      \"properties\": {\n        \"dtype\": \"number\",\n        \"std\": 0,\n        \"min\": 0,\n        \"max\": 1,\n        \"num_unique_values\": 2,\n        \"samples\": [\n          0,\n          1\n        ],\n        \"semantic_type\": \"\",\n        \"description\": \"\"\n      }\n    },\n    {\n      \"column\": \"Traffic_Conditions_Medium\",\n      \"properties\": {\n        \"dtype\": \"number\",\n        \"std\": 0,\n        \"min\": 0,\n        \"max\": 1,\n        \"num_unique_values\": 2,\n        \"samples\": [\n          1,\n          0\n        ],\n        \"semantic_type\": \"\",\n        \"description\": \"\"\n      }\n    },\n    {\n      \"column\": \"Weather_Clear\",\n      \"properties\": {\n        \"dtype\": \"number\",\n        \"std\": 0,\n        \"min\": 0,\n        \"max\": 1,\n        \"num_unique_values\": 2,\n        \"samples\": [\n          0,\n          1\n        ],\n        \"semantic_type\": \"\",\n        \"description\": \"\"\n      }\n    },\n    {\n      \"column\": \"Weather_Rain\",\n      \"properties\": {\n        \"dtype\": \"number\",\n        \"std\": 0,\n        \"min\": 0,\n        \"max\": 1,\n        \"num_unique_values\": 2,\n        \"samples\": [\n          1,\n          0\n        ],\n        \"semantic_type\": \"\",\n        \"description\": \"\"\n      }\n    },\n    {\n      \"column\": \"Weather_Snow\",\n      \"properties\": {\n        \"dtype\": \"number\",\n        \"std\": 0,\n        \"min\": 0,\n        \"max\": 1,\n        \"num_unique_values\": 2,\n        \"samples\": [\n          1,\n          0\n        ],\n        \"semantic_type\": \"\",\n        \"description\": \"\"\n      }\n    }\n  ]\n}",
       "type": "dataframe",
       "variable_name": "baseline_ds"
      },
      "text/html": [
       "\n",
       "  <div id=\"df-87bad2d8-bb35-4c0c-b395-94147c376245\" class=\"colab-df-container\">\n",
       "    <div>\n",
       "<style scoped>\n",
       "    .dataframe tbody tr th:only-of-type {\n",
       "        vertical-align: middle;\n",
       "    }\n",
       "\n",
       "    .dataframe tbody tr th {\n",
       "        vertical-align: top;\n",
       "    }\n",
       "\n",
       "    .dataframe thead th {\n",
       "        text-align: right;\n",
       "    }\n",
       "</style>\n",
       "<table border=\"1\" class=\"dataframe\">\n",
       "  <thead>\n",
       "    <tr style=\"text-align: right;\">\n",
       "      <th></th>\n",
       "      <th>Trip_Distance_km</th>\n",
       "      <th>Passenger_Count</th>\n",
       "      <th>Base_Fare</th>\n",
       "      <th>Per_Km_Rate</th>\n",
       "      <th>Per_Minute_Rate</th>\n",
       "      <th>Trip_Duration_Minutes</th>\n",
       "      <th>Trip_Price</th>\n",
       "      <th>Time_of_Day_Afternoon</th>\n",
       "      <th>Time_of_Day_Evening</th>\n",
       "      <th>Time_of_Day_Morning</th>\n",
       "      <th>Time_of_Day_Night</th>\n",
       "      <th>Day_of_Week_Weekday</th>\n",
       "      <th>Day_of_Week_Weekend</th>\n",
       "      <th>Traffic_Conditions_High</th>\n",
       "      <th>Traffic_Conditions_Low</th>\n",
       "      <th>Traffic_Conditions_Medium</th>\n",
       "      <th>Weather_Clear</th>\n",
       "      <th>Weather_Rain</th>\n",
       "      <th>Weather_Snow</th>\n",
       "    </tr>\n",
       "  </thead>\n",
       "  <tbody>\n",
       "    <tr>\n",
       "      <th>0</th>\n",
       "      <td>19.35</td>\n",
       "      <td>3.0</td>\n",
       "      <td>3.56</td>\n",
       "      <td>0.80</td>\n",
       "      <td>0.32</td>\n",
       "      <td>53.82</td>\n",
       "      <td>36.2624</td>\n",
       "      <td>0</td>\n",
       "      <td>0</td>\n",
       "      <td>1</td>\n",
       "      <td>0</td>\n",
       "      <td>1</td>\n",
       "      <td>0</td>\n",
       "      <td>0</td>\n",
       "      <td>1</td>\n",
       "      <td>0</td>\n",
       "      <td>1</td>\n",
       "      <td>0</td>\n",
       "      <td>0</td>\n",
       "    </tr>\n",
       "    <tr>\n",
       "      <th>2</th>\n",
       "      <td>36.87</td>\n",
       "      <td>1.0</td>\n",
       "      <td>2.70</td>\n",
       "      <td>1.21</td>\n",
       "      <td>0.15</td>\n",
       "      <td>37.27</td>\n",
       "      <td>52.9032</td>\n",
       "      <td>0</td>\n",
       "      <td>1</td>\n",
       "      <td>0</td>\n",
       "      <td>0</td>\n",
       "      <td>0</td>\n",
       "      <td>1</td>\n",
       "      <td>1</td>\n",
       "      <td>0</td>\n",
       "      <td>0</td>\n",
       "      <td>1</td>\n",
       "      <td>0</td>\n",
       "      <td>0</td>\n",
       "    </tr>\n",
       "    <tr>\n",
       "      <th>3</th>\n",
       "      <td>30.33</td>\n",
       "      <td>4.0</td>\n",
       "      <td>3.48</td>\n",
       "      <td>0.51</td>\n",
       "      <td>0.15</td>\n",
       "      <td>116.81</td>\n",
       "      <td>36.4698</td>\n",
       "      <td>0</td>\n",
       "      <td>1</td>\n",
       "      <td>0</td>\n",
       "      <td>0</td>\n",
       "      <td>1</td>\n",
       "      <td>0</td>\n",
       "      <td>0</td>\n",
       "      <td>1</td>\n",
       "      <td>0</td>\n",
       "      <td>0</td>\n",
       "      <td>0</td>\n",
       "      <td>0</td>\n",
       "    </tr>\n",
       "    <tr>\n",
       "      <th>4</th>\n",
       "      <td>25.87</td>\n",
       "      <td>3.0</td>\n",
       "      <td>2.93</td>\n",
       "      <td>0.63</td>\n",
       "      <td>0.32</td>\n",
       "      <td>22.64</td>\n",
       "      <td>15.6180</td>\n",
       "      <td>0</td>\n",
       "      <td>1</td>\n",
       "      <td>0</td>\n",
       "      <td>0</td>\n",
       "      <td>1</td>\n",
       "      <td>0</td>\n",
       "      <td>1</td>\n",
       "      <td>0</td>\n",
       "      <td>0</td>\n",
       "      <td>1</td>\n",
       "      <td>0</td>\n",
       "      <td>0</td>\n",
       "    </tr>\n",
       "    <tr>\n",
       "      <th>5</th>\n",
       "      <td>8.64</td>\n",
       "      <td>2.0</td>\n",
       "      <td>2.55</td>\n",
       "      <td>1.71</td>\n",
       "      <td>0.48</td>\n",
       "      <td>89.33</td>\n",
       "      <td>60.2028</td>\n",
       "      <td>1</td>\n",
       "      <td>0</td>\n",
       "      <td>0</td>\n",
       "      <td>0</td>\n",
       "      <td>0</td>\n",
       "      <td>1</td>\n",
       "      <td>0</td>\n",
       "      <td>0</td>\n",
       "      <td>1</td>\n",
       "      <td>1</td>\n",
       "      <td>0</td>\n",
       "      <td>0</td>\n",
       "    </tr>\n",
       "  </tbody>\n",
       "</table>\n",
       "</div>\n",
       "    <div class=\"colab-df-buttons\">\n",
       "\n",
       "  <div class=\"colab-df-container\">\n",
       "    <button class=\"colab-df-convert\" onclick=\"convertToInteractive('df-87bad2d8-bb35-4c0c-b395-94147c376245')\"\n",
       "            title=\"Convert this dataframe to an interactive table.\"\n",
       "            style=\"display:none;\">\n",
       "\n",
       "  <svg xmlns=\"http://www.w3.org/2000/svg\" height=\"24px\" viewBox=\"0 -960 960 960\">\n",
       "    <path d=\"M120-120v-720h720v720H120Zm60-500h600v-160H180v160Zm220 220h160v-160H400v160Zm0 220h160v-160H400v160ZM180-400h160v-160H180v160Zm440 0h160v-160H620v160ZM180-180h160v-160H180v160Zm440 0h160v-160H620v160Z\"/>\n",
       "  </svg>\n",
       "    </button>\n",
       "\n",
       "  <style>\n",
       "    .colab-df-container {\n",
       "      display:flex;\n",
       "      gap: 12px;\n",
       "    }\n",
       "\n",
       "    .colab-df-convert {\n",
       "      background-color: #E8F0FE;\n",
       "      border: none;\n",
       "      border-radius: 50%;\n",
       "      cursor: pointer;\n",
       "      display: none;\n",
       "      fill: #1967D2;\n",
       "      height: 32px;\n",
       "      padding: 0 0 0 0;\n",
       "      width: 32px;\n",
       "    }\n",
       "\n",
       "    .colab-df-convert:hover {\n",
       "      background-color: #E2EBFA;\n",
       "      box-shadow: 0px 1px 2px rgba(60, 64, 67, 0.3), 0px 1px 3px 1px rgba(60, 64, 67, 0.15);\n",
       "      fill: #174EA6;\n",
       "    }\n",
       "\n",
       "    .colab-df-buttons div {\n",
       "      margin-bottom: 4px;\n",
       "    }\n",
       "\n",
       "    [theme=dark] .colab-df-convert {\n",
       "      background-color: #3B4455;\n",
       "      fill: #D2E3FC;\n",
       "    }\n",
       "\n",
       "    [theme=dark] .colab-df-convert:hover {\n",
       "      background-color: #434B5C;\n",
       "      box-shadow: 0px 1px 3px 1px rgba(0, 0, 0, 0.15);\n",
       "      filter: drop-shadow(0px 1px 2px rgba(0, 0, 0, 0.3));\n",
       "      fill: #FFFFFF;\n",
       "    }\n",
       "  </style>\n",
       "\n",
       "    <script>\n",
       "      const buttonEl =\n",
       "        document.querySelector('#df-87bad2d8-bb35-4c0c-b395-94147c376245 button.colab-df-convert');\n",
       "      buttonEl.style.display =\n",
       "        google.colab.kernel.accessAllowed ? 'block' : 'none';\n",
       "\n",
       "      async function convertToInteractive(key) {\n",
       "        const element = document.querySelector('#df-87bad2d8-bb35-4c0c-b395-94147c376245');\n",
       "        const dataTable =\n",
       "          await google.colab.kernel.invokeFunction('convertToInteractive',\n",
       "                                                    [key], {});\n",
       "        if (!dataTable) return;\n",
       "\n",
       "        const docLinkHtml = 'Like what you see? Visit the ' +\n",
       "          '<a target=\"_blank\" href=https://colab.research.google.com/notebooks/data_table.ipynb>data table notebook</a>'\n",
       "          + ' to learn more about interactive tables.';\n",
       "        element.innerHTML = '';\n",
       "        dataTable['output_type'] = 'display_data';\n",
       "        await google.colab.output.renderOutput(dataTable, element);\n",
       "        const docLink = document.createElement('div');\n",
       "        docLink.innerHTML = docLinkHtml;\n",
       "        element.appendChild(docLink);\n",
       "      }\n",
       "    </script>\n",
       "  </div>\n",
       "\n",
       "\n",
       "<div id=\"df-c958f788-e76d-4769-9ed7-f8f698982da9\">\n",
       "  <button class=\"colab-df-quickchart\" onclick=\"quickchart('df-c958f788-e76d-4769-9ed7-f8f698982da9')\"\n",
       "            title=\"Suggest charts\"\n",
       "            style=\"display:none;\">\n",
       "\n",
       "<svg xmlns=\"http://www.w3.org/2000/svg\" height=\"24px\"viewBox=\"0 0 24 24\"\n",
       "     width=\"24px\">\n",
       "    <g>\n",
       "        <path d=\"M19 3H5c-1.1 0-2 .9-2 2v14c0 1.1.9 2 2 2h14c1.1 0 2-.9 2-2V5c0-1.1-.9-2-2-2zM9 17H7v-7h2v7zm4 0h-2V7h2v10zm4 0h-2v-4h2v4z\"/>\n",
       "    </g>\n",
       "</svg>\n",
       "  </button>\n",
       "\n",
       "<style>\n",
       "  .colab-df-quickchart {\n",
       "      --bg-color: #E8F0FE;\n",
       "      --fill-color: #1967D2;\n",
       "      --hover-bg-color: #E2EBFA;\n",
       "      --hover-fill-color: #174EA6;\n",
       "      --disabled-fill-color: #AAA;\n",
       "      --disabled-bg-color: #DDD;\n",
       "  }\n",
       "\n",
       "  [theme=dark] .colab-df-quickchart {\n",
       "      --bg-color: #3B4455;\n",
       "      --fill-color: #D2E3FC;\n",
       "      --hover-bg-color: #434B5C;\n",
       "      --hover-fill-color: #FFFFFF;\n",
       "      --disabled-bg-color: #3B4455;\n",
       "      --disabled-fill-color: #666;\n",
       "  }\n",
       "\n",
       "  .colab-df-quickchart {\n",
       "    background-color: var(--bg-color);\n",
       "    border: none;\n",
       "    border-radius: 50%;\n",
       "    cursor: pointer;\n",
       "    display: none;\n",
       "    fill: var(--fill-color);\n",
       "    height: 32px;\n",
       "    padding: 0;\n",
       "    width: 32px;\n",
       "  }\n",
       "\n",
       "  .colab-df-quickchart:hover {\n",
       "    background-color: var(--hover-bg-color);\n",
       "    box-shadow: 0 1px 2px rgba(60, 64, 67, 0.3), 0 1px 3px 1px rgba(60, 64, 67, 0.15);\n",
       "    fill: var(--button-hover-fill-color);\n",
       "  }\n",
       "\n",
       "  .colab-df-quickchart-complete:disabled,\n",
       "  .colab-df-quickchart-complete:disabled:hover {\n",
       "    background-color: var(--disabled-bg-color);\n",
       "    fill: var(--disabled-fill-color);\n",
       "    box-shadow: none;\n",
       "  }\n",
       "\n",
       "  .colab-df-spinner {\n",
       "    border: 2px solid var(--fill-color);\n",
       "    border-color: transparent;\n",
       "    border-bottom-color: var(--fill-color);\n",
       "    animation:\n",
       "      spin 1s steps(1) infinite;\n",
       "  }\n",
       "\n",
       "  @keyframes spin {\n",
       "    0% {\n",
       "      border-color: transparent;\n",
       "      border-bottom-color: var(--fill-color);\n",
       "      border-left-color: var(--fill-color);\n",
       "    }\n",
       "    20% {\n",
       "      border-color: transparent;\n",
       "      border-left-color: var(--fill-color);\n",
       "      border-top-color: var(--fill-color);\n",
       "    }\n",
       "    30% {\n",
       "      border-color: transparent;\n",
       "      border-left-color: var(--fill-color);\n",
       "      border-top-color: var(--fill-color);\n",
       "      border-right-color: var(--fill-color);\n",
       "    }\n",
       "    40% {\n",
       "      border-color: transparent;\n",
       "      border-right-color: var(--fill-color);\n",
       "      border-top-color: var(--fill-color);\n",
       "    }\n",
       "    60% {\n",
       "      border-color: transparent;\n",
       "      border-right-color: var(--fill-color);\n",
       "    }\n",
       "    80% {\n",
       "      border-color: transparent;\n",
       "      border-right-color: var(--fill-color);\n",
       "      border-bottom-color: var(--fill-color);\n",
       "    }\n",
       "    90% {\n",
       "      border-color: transparent;\n",
       "      border-bottom-color: var(--fill-color);\n",
       "    }\n",
       "  }\n",
       "</style>\n",
       "\n",
       "  <script>\n",
       "    async function quickchart(key) {\n",
       "      const quickchartButtonEl =\n",
       "        document.querySelector('#' + key + ' button');\n",
       "      quickchartButtonEl.disabled = true;  // To prevent multiple clicks.\n",
       "      quickchartButtonEl.classList.add('colab-df-spinner');\n",
       "      try {\n",
       "        const charts = await google.colab.kernel.invokeFunction(\n",
       "            'suggestCharts', [key], {});\n",
       "      } catch (error) {\n",
       "        console.error('Error during call to suggestCharts:', error);\n",
       "      }\n",
       "      quickchartButtonEl.classList.remove('colab-df-spinner');\n",
       "      quickchartButtonEl.classList.add('colab-df-quickchart-complete');\n",
       "    }\n",
       "    (() => {\n",
       "      let quickchartButtonEl =\n",
       "        document.querySelector('#df-c958f788-e76d-4769-9ed7-f8f698982da9 button');\n",
       "      quickchartButtonEl.style.display =\n",
       "        google.colab.kernel.accessAllowed ? 'block' : 'none';\n",
       "    })();\n",
       "  </script>\n",
       "</div>\n",
       "    </div>\n",
       "  </div>\n"
      ],
      "text/plain": [
       "   Trip_Distance_km  Passenger_Count  Base_Fare  Per_Km_Rate  Per_Minute_Rate  \\\n",
       "0             19.35              3.0       3.56         0.80             0.32   \n",
       "2             36.87              1.0       2.70         1.21             0.15   \n",
       "3             30.33              4.0       3.48         0.51             0.15   \n",
       "4             25.87              3.0       2.93         0.63             0.32   \n",
       "5              8.64              2.0       2.55         1.71             0.48   \n",
       "\n",
       "   Trip_Duration_Minutes  Trip_Price  Time_of_Day_Afternoon  \\\n",
       "0                  53.82     36.2624                      0   \n",
       "2                  37.27     52.9032                      0   \n",
       "3                 116.81     36.4698                      0   \n",
       "4                  22.64     15.6180                      0   \n",
       "5                  89.33     60.2028                      1   \n",
       "\n",
       "   Time_of_Day_Evening  Time_of_Day_Morning  Time_of_Day_Night  \\\n",
       "0                    0                    1                  0   \n",
       "2                    1                    0                  0   \n",
       "3                    1                    0                  0   \n",
       "4                    1                    0                  0   \n",
       "5                    0                    0                  0   \n",
       "\n",
       "   Day_of_Week_Weekday  Day_of_Week_Weekend  Traffic_Conditions_High  \\\n",
       "0                    1                    0                        0   \n",
       "2                    0                    1                        1   \n",
       "3                    1                    0                        0   \n",
       "4                    1                    0                        1   \n",
       "5                    0                    1                        0   \n",
       "\n",
       "   Traffic_Conditions_Low  Traffic_Conditions_Medium  Weather_Clear  \\\n",
       "0                       1                          0              1   \n",
       "2                       0                          0              1   \n",
       "3                       1                          0              0   \n",
       "4                       0                          0              1   \n",
       "5                       0                          1              1   \n",
       "\n",
       "   Weather_Rain  Weather_Snow  \n",
       "0             0             0  \n",
       "2             0             0  \n",
       "3             0             0  \n",
       "4             0             0  \n",
       "5             0             0  "
      ]
     },
     "execution_count": 45,
     "metadata": {},
     "output_type": "execute_result"
    }
   ],
   "source": [
    "ds = pd.read_csv(\"/content/dataset/taxi_trip_pricing.csv\")\n",
    "df = ds.dropna(subset=[\"Trip_Price\"])\n",
    "\n",
    "numeric_features = [\n",
    "  \"Trip_Distance_km\",\n",
    "  \"Passenger_Count\",\n",
    "  \"Base_Fare\",\n",
    "  \"Per_Km_Rate\",\n",
    "  \"Per_Minute_Rate\",\n",
    "  \"Trip_Duration_Minutes\",\n",
    "]\n",
    "df[numeric_features] = df[numeric_features].apply(lambda col: col.fillna(col.median()))\n",
    "\n",
    "categorical_features = [\n",
    "  \"Time_of_Day\",\n",
    "  \"Day_of_Week\",\n",
    "  \"Traffic_Conditions\",\n",
    "  \"Weather\",\n",
    "]\n",
    "\n",
    "for feature in categorical_features:\n",
    "  encoded_feature = pd.get_dummies(df[feature], prefix=feature, dtype=int)\n",
    "  df[encoded_feature.columns] = encoded_feature\n",
    "  df = df.drop(columns=[feature])\n",
    "\n",
    "df.head()"
   ]
  },
  {
   "cell_type": "markdown",
   "metadata": {
    "id": "R5R83QH0SSg0"
   },
   "source": [
    "#### Обучение модели"
   ]
  },
  {
   "cell_type": "markdown",
   "metadata": {
    "id": "uW8XriZXSUEf"
   },
   "source": [
    "Перейдем теперь к этапу обучения модели. По аналогии с лабораторной работой №1, для этого создадим вспомогательные функции:\n",
    "\n",
    "- `generate_train_data` - отвечает за то, чтобы сгенерировать набор данных для тестирования и обучения на основе переданного датасета\n",
    "\n",
    "- `get_model_metrics` - отвечает за рассчет показаний метрик для уже обученной модели на основе тестовых данных\n",
    "\n",
    "- `print_model_metrics` - отвечает за отформатированный вывод показаний метрик"
   ]
  },
  {
   "cell_type": "code",
   "execution_count": null,
   "metadata": {
    "id": "Zana4dzxSW77"
   },
   "outputs": [],
   "source": [
    "def generate_train_data(dataset, *, target_feature=\"Trip_Price\", test_size=0.2, random_state=42):\n",
    "  X = dataset.drop(columns=[target_feature])\n",
    "  y = dataset[target_feature]\n",
    "  X_train, X_test, y_train, y_test = map(\n",
    "    np.array,\n",
    "    sklearn.model_selection.train_test_split(\n",
    "      X, y,\n",
    "      test_size=test_size,\n",
    "      random_state=random_state,\n",
    "    ),\n",
    "  )\n",
    "\n",
    "  return (X_train, y_train), (X_test, y_test)\n",
    "\n",
    "\n",
    "def get_model_metrics(model, X_test, y_test):\n",
    "  y_pred = model.predict(X_test)\n",
    "\n",
    "  mae = sklearn.metrics.mean_absolute_error(y_test, y_pred)\n",
    "  r2 = sklearn.metrics.r2_score(y_test, y_pred)\n",
    "\n",
    "  return { \"mae\": mae, \"r2\": r2 }\n",
    "\n",
    "\n",
    "def print_model_metrics(model, X_test, y_test):\n",
    "  results = get_model_metrics(model, X_test, y_test)\n",
    "\n",
    "  print(f\"Mean Absolute Error (MAE): {results['mae']:.4f}\")\n",
    "  print(f\"R-squared (R2): {results['r2']:.4f}\")"
   ]
  },
  {
   "cell_type": "markdown",
   "metadata": {
    "id": "mIlGCMT7SZbD"
   },
   "source": [
    "Обучим теперь модель случайного леса для решения задачи регрессии на бейзлайн-датасете, который мы ранее определили и выведем на экран показатели метрик для итоговой обученной модели."
   ]
  },
  {
   "cell_type": "code",
   "execution_count": null,
   "metadata": {
    "colab": {
     "base_uri": "https://localhost:8080/"
    },
    "id": "Xj-NCw5cShWz",
    "outputId": "e8e90349-6ad0-42b8-8f40-5e7b1d03de11"
   },
   "outputs": [
    {
     "name": "stdout",
     "output_type": "stream",
     "text": [
      "Mean Absolute Error (MAE): 6.2614\n",
      "R-squared (R2): 0.9458\n"
     ]
    }
   ],
   "source": [
    "(X_train, y_train), (X_test, y_test) = generate_train_data(df)\n",
    "\n",
    "model = sklearn.ensemble.RandomForestRegressor(random_state=42)\n",
    "model.fit(X_train, y_train)\n",
    "\n",
    "print_model_metrics(model, X_test, y_test)"
   ]
  },
  {
   "cell_type": "markdown",
   "metadata": {
    "id": "LPbp1cXQSnO7"
   },
   "source": [
    "Как видим, даже на неоптимизированном бейзлайне модель показывает отличные результаты, о чем свидетельствуют высокие значения метрики \"R2\".\n",
    "\n",
    "Попробуем применить к случайному лесу гипотезы, которые мы раньше применяли к дереву решений."
   ]
  },
  {
   "cell_type": "markdown",
   "metadata": {
    "id": "Q87AMdkwS4NY"
   },
   "source": [
    "### 3. Улучшение бейзлайна"
   ]
  },
  {
   "cell_type": "markdown",
   "metadata": {
    "id": "_fWj6hxLS7Lw"
   },
   "source": [
    "#### Feature engineering"
   ]
  },
  {
   "cell_type": "markdown",
   "metadata": {
    "id": "sYFezDf5S98S"
   },
   "source": [
    "При решении прошлых лабораторных работ самым эффективным методом оптимизации бейзлайна всегда было добавление новых признаков с использованием нелинейных функций.\n",
    "\n",
    "Попробуем применить ту же гипотезу и к случайному лесу. Для этого расширим датасет новыми признаками `Trip_Distance_km`, `Per_Km_Rate` и `Trip_Duration_Minutes`, `Per_Minute_Rate`, которые мы определили в прошлых лабораторных работах."
   ]
  },
  {
   "cell_type": "code",
   "execution_count": null,
   "metadata": {
    "colab": {
     "base_uri": "https://localhost:8080/"
    },
    "id": "a26XtUXETQ8U",
    "outputId": "25847491-15ef-4fe2-b7c3-97f5ba813c5b"
   },
   "outputs": [
    {
     "name": "stdout",
     "output_type": "stream",
     "text": [
      "Mean Absolute Error (MAE): 5.4902\n",
      "R-squared (R2): 0.9291\n"
     ]
    }
   ],
   "source": [
    "optimized_df = df.copy()\n",
    "\n",
    "optimized_df[\"Per_Km_Rate__Trip_Distance_km\"] = optimized_df[\"Trip_Distance_km\"] * optimized_df[\"Per_Km_Rate\"]\n",
    "optimized_df = optimized_df.drop(columns=[\"Trip_Distance_km\", \"Per_Km_Rate\"])\n",
    "\n",
    "# обучение модели\n",
    "\n",
    "(X_train, y_train), (X_test, y_test) = generate_train_data(optimized_df)\n",
    "\n",
    "model = sklearn.ensemble.RandomForestRegressor(random_state=42)\n",
    "model.fit(X_train, y_train)\n",
    "\n",
    "print_model_metrics(model, X_test, y_test)"
   ]
  },
  {
   "cell_type": "code",
   "execution_count": null,
   "metadata": {
    "colab": {
     "base_uri": "https://localhost:8080/"
    },
    "id": "U5EIKfpFTX0L",
    "outputId": "24d9419e-0db7-45e2-af1b-f8a372dc62ba"
   },
   "outputs": [
    {
     "name": "stdout",
     "output_type": "stream",
     "text": [
      "Mean Absolute Error (MAE): 4.9117\n",
      "R-squared (R2): 0.9353\n"
     ]
    }
   ],
   "source": [
    "optimized_df_2 = optimized_df.copy()\n",
    "\n",
    "optimized_df_2[\"Per_Minute_Rate__Trip_Duration_Minutes\"] = optimized_df_2[\"Trip_Duration_Minutes\"] * optimized_df_2[\"Per_Minute_Rate\"]\n",
    "optimized_df_2 = optimized_df_2.drop(columns=[\"Trip_Duration_Minutes\", \"Per_Minute_Rate\"])\n",
    "\n",
    "# обучение модели\n",
    "\n",
    "(X_train, y_train), (X_test, y_test) = generate_train_data(optimized_df_2)\n",
    "\n",
    "model = sklearn.ensemble.RandomForestRegressor(random_state=42)\n",
    "model.fit(X_train, y_train)\n",
    "\n",
    "print_model_metrics(model, X_test, y_test)"
   ]
  },
  {
   "cell_type": "markdown",
   "metadata": {
    "id": "kH1zpQpETf3b"
   },
   "source": [
    "Как видим, после внедрения новых признаков, показатель метрики \"MAE\" значительно уменьшился. Однако, с другой стороны, хоть и незначительно, но уменьшился показатель метрики \"R2\". Итого, можно сказать, что гипотеза оказалась верной и дала положительный результат при оптимизации бейзлайна."
   ]
  },
  {
   "cell_type": "markdown",
   "metadata": {
    "id": "HjtrEmRzTvqj"
   },
   "source": [
    "#### Избавление от выбросов"
   ]
  },
  {
   "cell_type": "markdown",
   "metadata": {
    "id": "TirgZUfDTy4P"
   },
   "source": [
    "Вторым по эффективности методом по оптимизации бейзлайна была фильтрация значений признаков в датасете. Попробуем применить ту же гипотезу и для случайного леса.\n",
    "\n",
    "Однако, в этот раз в качестве целового признака возьмем ранее добавленный `Per_Km_Rate__Trip_Distance_km`. Для начала проанализируем значения признака на наличие выбросов. Для этого выведем графики, которые бы нам дали больше информации о распределении значений и зависимости целевой переменной от них."
   ]
  },
  {
   "cell_type": "code",
   "execution_count": null,
   "metadata": {
    "colab": {
     "base_uri": "https://localhost:8080/",
     "height": 407
    },
    "id": "moUALpbEUfMy",
    "outputId": "f693913a-6e73-48bb-ebb4-d22828ae4ab0"
   },
   "outputs": [
    {
     "data": {
      "image/png": "[encoded data removed]",
      "text/plain": [
       "<Figure size 2000x600 with 3 Axes>"
      ]
     },
     "metadata": {},
     "output_type": "display_data"
    }
   ],
   "source": [
    "fig, axes = plt.subplots(1, 3, figsize=(20, 6), constrained_layout=True)\n",
    "\n",
    "sns.scatterplot(\n",
    "    x=\"Per_Km_Rate__Trip_Distance_km\",\n",
    "    y=\"Trip_Price\",\n",
    "    data=optimized_df_2,\n",
    "    ax=axes[0]\n",
    ")\n",
    "axes[0].set_title(\"Price estimate by distance vs Trip Price\")\n",
    "axes[0].set_xlabel(\"Price estimate by distance\")\n",
    "axes[0].set_ylabel(\"Trip Price\")\n",
    "axes[0].grid(True)\n",
    "\n",
    "axes[1].hist(optimized_df_2[\"Per_Km_Rate__Trip_Distance_km\"], bins=30, color=\"skyblue\", edgecolor=\"black\")\n",
    "axes[1].set_title(\"Распределение значений\")\n",
    "axes[1].set_xlabel(\"Price estimate by distance\")\n",
    "axes[1].set_ylabel(\"Frequency\")\n",
    "\n",
    "sns.boxplot(\n",
    "    y=\"Per_Km_Rate__Trip_Distance_km\",\n",
    "    data=optimized_df_2,\n",
    "    ax=axes[2]\n",
    ")\n",
    "axes[2].set_title(\"Boxplot of Price estimate by distance\")\n",
    "axes[2].set_ylabel(\"Value\")\n",
    "\n",
    "plt.show()"
   ]
  },
  {
   "cell_type": "markdown",
   "metadata": {
    "id": "tgOlcIkJVAxt"
   },
   "source": [
    "Как видно по графикам:\n",
    "\n",
    "1. Целевая переменная действительно сильно зависит от значений рассматриваемого признака\n",
    "\n",
    "2. Распределение значений для целевого признака слишком смещенное и имеет длинный \"хвост\"\n",
    "\n",
    "Попробуем избавиться от выбросов, используя метод интерквартильного размаха."
   ]
  },
  {
   "cell_type": "code",
   "execution_count": null,
   "metadata": {
    "colab": {
     "base_uri": "https://localhost:8080/"
    },
    "id": "K4VLCsU3Vbyx",
    "outputId": "8192a04f-f3de-4f6e-e9e8-b142346e60e2"
   },
   "outputs": [
    {
     "name": "stdout",
     "output_type": "stream",
     "text": [
      "Mean Absolute Error (MAE): 3.2798\n",
      "R-squared (R2): 0.9451\n"
     ]
    }
   ],
   "source": [
    "Q1 = optimized_df_2[\"Per_Km_Rate__Trip_Distance_km\"].quantile(0.25)\n",
    "Q3 = optimized_df_2[\"Per_Km_Rate__Trip_Distance_km\"].quantile(0.75)\n",
    "IQR = Q3 - Q1\n",
    "\n",
    "lower_bound = Q1 - 1.5 * IQR\n",
    "upper_bound = Q3 + 1.5 * IQR\n",
    "\n",
    "optimized_df_3 = optimized_df_2[(lower_bound <= optimized_df[\"Per_Km_Rate__Trip_Distance_km\"]) & (optimized_df[\"Per_Km_Rate__Trip_Distance_km\"] <= upper_bound)]\n",
    "\n",
    "# обучение модели\n",
    "\n",
    "(X_train, y_train), (X_test, y_test) = generate_train_data(optimized_df_3)\n",
    "\n",
    "model = sklearn.ensemble.RandomForestRegressor(random_state=42)\n",
    "model.fit(X_train, y_train)\n",
    "\n",
    "print_model_metrics(model, X_test, y_test)"
   ]
  },
  {
   "cell_type": "markdown",
   "metadata": {
    "id": "MItJOvyNVln5"
   },
   "source": [
    "Как видно, удаление выбросов из данных дало крайне положительный результат на итоговое значение метрики \"MAE\", и немного улучшило показатели метрики \"R2\". А следовательно, гипотеза оказалась верной!"
   ]
  },
  {
   "cell_type": "markdown",
   "metadata": {
    "id": "CNJsx7jvV0cY"
   },
   "source": [
    "### 4. Имплементация алгоритма машинного обучения"
   ]
  },
  {
   "cell_type": "markdown",
   "metadata": {
    "id": "901U67a4WERw"
   },
   "source": [
    "Перейдем теперь к собственной имплементации алгоритма смешанного леса для задачи регрессии. Решение я реализовал в виде класса `MyRandomForestRegressor`, который имеет интерфейс, схожий с тем, что используется в библиотеке `sklearn`. присутствуют 2 метода: `fit` - для обучения модели, `predict` - для предсказания классов для уже обученной модели.\n",
    "\n",
    "Так как смешанный лес является ансамблевым методом, то в его работе участвуют другие модели. В нашем случае это дерево решений. В качестве такой вспомогательной модели была взята имплементация алгоритма дерева решений из лабораторной работы №3 для решения задачи регрессии.\n",
    "\n",
    "Также, так как процесс обучения стал значительно дольше, то была добавлена строка для отслеживания прогресса обучения модели."
   ]
  },
  {
   "cell_type": "code",
   "execution_count": 14,
   "metadata": {
    "id": "2Mk8bY9IWLrJ"
   },
   "outputs": [],
   "source": [
    "class MyDecisionTreeRegressor(DecisionTreeBase):\n",
    "  def _metric(self, X, y, split_info):\n",
    "    feature_values = X[:, split_info.index]\n",
    "    left_indices = feature_values <= split_info.threshold\n",
    "    right_indices = feature_values > split_info.threshold\n",
    "\n",
    "    if np.sum(left_indices) == 0 or np.sum(right_indices) == 0:\n",
    "      return -float(\"inf\")\n",
    "\n",
    "    left_y = y[left_indices]\n",
    "    right_y = y[right_indices]\n",
    "\n",
    "    n = len(y)\n",
    "    left_var = np.var(left_y) * len(left_y) / n\n",
    "    right_var = np.var(right_y) * len(right_y) / n\n",
    "\n",
    "    return np.var(y) - (left_var + right_var)\n"
   ]
  },
  {
   "cell_type": "code",
   "execution_count": 15,
   "metadata": {
    "id": "tXzJAwnOWNh_"
   },
   "outputs": [],
   "source": [
    "class MyRandomForestRegressor:\n",
    "    def __init__(self, trees_amount=100, max_depth=None):\n",
    "        self.__trees_amount = trees_amount\n",
    "        self.__tree_max_depth = max_depth\n",
    "        self.__trees = None\n",
    "\n",
    "    def __create_new_tree(self, X, y):\n",
    "        n, _ = X.shape\n",
    "        max_depth = _get_max_value(self.__tree_max_depth, n)\n",
    "        sample_ids = np.random.choice(n, size=n, replace=True)\n",
    "\n",
    "        selected_x = X[sample_ids]\n",
    "        selected_y = y[sample_ids]\n",
    "\n",
    "        tree = MyDecisionTreeRegressor(max_depth=max_depth)\n",
    "        tree.fit(selected_x, selected_y)\n",
    "        return tree\n",
    "\n",
    "    def fit(self, X, y):\n",
    "        self.__trees = [\n",
    "            _with_retries(lambda: self.__create_new_tree(X, y))\n",
    "            for _ in tqdm.tqdm(range(self.__trees_amount))\n",
    "        ]\n",
    "        print()\n",
    "\n",
    "    def predict(self, X):\n",
    "        y_pred = np.array([ tree.predict(X) for tree in self.__trees ])\n",
    "        return np.mean(y_pred, axis=0)"
   ]
  },
  {
   "cell_type": "markdown",
   "metadata": {
    "id": "Ylrpf1RdaWmS"
   },
   "source": [
    "#### Сравнение с бейзлайном"
   ]
  },
  {
   "cell_type": "markdown",
   "metadata": {
    "id": "INxgqSeOaY-d"
   },
   "source": [
    "Обучим теперь реализованную модель на датасете, соответствущем бейзлайну. Из-за определенных ранее вспомогательных функций и схожего интерфейса класса модели основной алгоритм обучения не меняется."
   ]
  },
  {
   "cell_type": "code",
   "execution_count": null,
   "metadata": {
    "colab": {
     "base_uri": "https://localhost:8080/"
    },
    "id": "wL6VxnZqWYVf",
    "outputId": "c0dcd9d4-cc57-4c0c-cecb-7ff0ce65f77d"
   },
   "outputs": [
    {
     "name": "stderr",
     "output_type": "stream",
     "text": [
      "100%|██████████| 10/10 [00:27<00:00,  2.76s/it]"
     ]
    },
    {
     "name": "stdout",
     "output_type": "stream",
     "text": [
      "\n",
      "Mean Absolute Error (MAE): 6.3680\n",
      "R-squared (R2): 0.9625\n"
     ]
    },
    {
     "name": "stderr",
     "output_type": "stream",
     "text": [
      "\n"
     ]
    }
   ],
   "source": [
    "(X_train, y_train), (X_test, y_test) = generate_train_data(df)\n",
    "\n",
    "model = MyRandomForestRegressor(trees_amount=10, max_depth=float(\"inf\"))\n",
    "model.fit(X_train, y_train)\n",
    "\n",
    "print_model_metrics(model, X_test, y_test)"
   ]
  },
  {
   "cell_type": "markdown",
   "metadata": {
    "id": "7pu3RF6caas_"
   },
   "source": [
    "Как видим, итоговые значения полученных метрик оказались очень близкими к тем, которые были у модели из пункта 2, что говорит нам о схожести алгоритмов имплементации с реализацией из `sklearn`.\n",
    "\n",
    "Однако, значения хоть незначительно, но отличаются, что может быть обосновано наличием случайности в некоторых этапах алгоритма."
   ]
  },
  {
   "cell_type": "code",
   "execution_count": null,
   "metadata": {
    "colab": {
     "base_uri": "https://localhost:8080/"
    },
    "id": "QGQSomSca14t",
    "outputId": "6eb45f1e-0e9c-411f-8332-2d1b89d767e4"
   },
   "outputs": [
    {
     "name": "stderr",
     "output_type": "stream",
     "text": [
      "100%|██████████| 10/10 [00:19<00:00,  1.98s/it]"
     ]
    },
    {
     "name": "stdout",
     "output_type": "stream",
     "text": [
      "\n",
      "Mean Absolute Error (MAE): 4.2440\n",
      "R-squared (R2): 0.9190\n"
     ]
    },
    {
     "name": "stderr",
     "output_type": "stream",
     "text": [
      "\n"
     ]
    }
   ],
   "source": [
    "(X_train, y_train), (X_test, y_test) = generate_train_data(optimized_df_3)\n",
    "\n",
    "model = MyRandomForestRegressor(trees_amount=10, max_depth=float(\"inf\"))\n",
    "model.fit(X_train, y_train)\n",
    "\n",
    "print_model_metrics(model, X_test, y_test)"
   ]
  },
  {
   "cell_type": "markdown",
   "metadata": {
    "id": "TfV-xNNhbHqN"
   },
   "source": [
    "Как видно, улучшения, которые были проделаны по отношению к бейзлайну, оказали положительное влияние на итоговое качество имплементированной модели.\n",
    "\n",
    "В сравнении с моделью из пункта 3, имплементированная модель имеет хуже показатели метрик, что также связано с элементами случайности при работе алгоритма и, возможно, выбором базового алгоритма работы случайного дерева, которые лишен оптимизаций."
   ]
  }
 ],
 "metadata": {
  "colab": {
   "provenance": [],
   "toc_visible": true
  },
  "kernelspec": {
   "display_name": "Python 3 (ipykernel)",
   "language": "python",
   "name": "python3"
  },
  "language_info": {
   "codemirror_mode": {
    "name": "ipython",
    "version": 3
   },
   "file_extension": ".py",
   "mimetype": "text/x-python",
   "name": "python",
   "nbconvert_exporter": "python",
   "pygments_lexer": "ipython3",
   "version": "3.13.1"
  }
 },
 "nbformat": 4,
 "nbformat_minor": 4
}
